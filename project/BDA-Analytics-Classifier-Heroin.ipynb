{
 "cells": [
  {
   "cell_type": "markdown",
   "metadata": {},
   "source": [
    "##  Big Data Applications and Analytics - Term Project \n",
    "### Sean M. Shiverick Fall 2017\n",
    "\n",
    "# Classification of Opioid Use: Heroin\n",
    "* Logistic Regression Classifier, Decision Tree Classifier, Random Forests\n",
    "* from Introduction to Machine Learning by Andreas Mueller and Sarah Guido\n",
    "* Ch. 2 Supervised Learning, Classification Models\n",
    "\n",
    "## Dataset: NSDUH-2015\n",
    "* National Survey of Drug Use and Health 2015\n",
    "* Substance Abuse and Metnal Health Data Archive\n",
    "\n",
    "### Import packages\n",
    "* Load forge dataset and assign variables"
   ]
  },
  {
   "cell_type": "code",
   "execution_count": 1,
   "metadata": {
    "collapsed": true
   },
   "outputs": [],
   "source": [
    "import sklearn\n",
    "import mglearn\n",
    "\n",
    "import numpy as np\n",
    "import pandas as pd\n",
    "\n",
    "import matplotlib.pyplot as plt\n",
    "%matplotlib inline"
   ]
  },
  {
   "cell_type": "markdown",
   "metadata": {},
   "source": [
    "## Part 1. Load Project dataset\n",
    "* Delete first two columns and `SUICIDATT`; examine dataframe keys\n",
    "* Identify features and target variable `HEROINEVR`\n",
    "* Split data into Training and Test sets"
   ]
  },
  {
   "cell_type": "code",
   "execution_count": 2,
   "metadata": {},
   "outputs": [
    {
     "data": {
      "text/plain": [
       "(57146, 20)"
      ]
     },
     "execution_count": 2,
     "metadata": {},
     "output_type": "execute_result"
    }
   ],
   "source": [
    "file = pd.read_csv('project-data.csv')\n",
    "opioids = pd.DataFrame(file)\n",
    "\n",
    "opioids.drop(opioids.columns[[0,1]], axis=1, inplace=True)\n",
    "del opioids['SUICATT']\n",
    "\n",
    "opioids.shape"
   ]
  },
  {
   "cell_type": "code",
   "execution_count": 3,
   "metadata": {},
   "outputs": [
    {
     "name": "stdout",
     "output_type": "stream",
     "text": [
      "Index(['AGECAT', 'SEX', 'MARRIED', 'EDUCAT', 'EMPLOY18', 'CTYMETRO', 'HEALTH',\n",
      "       'MENTHLTH', 'PRLMISEVR', 'PRLMISAB', 'PRLANY', 'HEROINEVR', 'HEROINUSE',\n",
      "       'HEROINFQY', 'TRQLZRS', 'SEDATVS', 'COCAINE', 'AMPHETMN', 'TRTMENT',\n",
      "       'MHTRTMT'],\n",
      "      dtype='object')\n"
     ]
    }
   ],
   "source": [
    "print(opioids.keys())"
   ]
  },
  {
   "cell_type": "code",
   "execution_count": 4,
   "metadata": {},
   "outputs": [
    {
     "data": {
      "text/plain": [
       "0    56190\n",
       "1      956\n",
       "Name: HEROINEVR, dtype: int64"
      ]
     },
     "execution_count": 4,
     "metadata": {},
     "output_type": "execute_result"
    }
   ],
   "source": [
    "opioids['HEROINEVR'].value_counts()"
   ]
  },
  {
   "cell_type": "code",
   "execution_count": 5,
   "metadata": {
    "collapsed": true,
    "scrolled": true
   },
   "outputs": [],
   "source": [
    "features = ['AGECAT', 'SEX', 'MARRIED', 'EDUCAT', 'EMPLOY18', \n",
    "            'CTYMETRO', 'HEALTH','MENTHLTH', 'PRLMISEVR', 'PRLMISAB', 'PRLANY', \n",
    "            'TRQLZRS', 'SEDATVS', 'COCAINE', 'AMPHETMN', 'TRTMENT','MHTRTMT']\n",
    "\n",
    "opioids.data = pd.DataFrame(opioids, columns=['AGECAT', 'SEX', 'MARRIED', 'EDUCAT', 'EMPLOY18', \n",
    "                                              'CTYMETRO', 'HEALTH','MENTHLTH', 'PRLMISEVR', \n",
    "                                              'PRLMISAB','PRLANY','TRQLZRS', 'SEDATVS', \n",
    "                                              'COCAINE', 'AMPHETMN', 'TRTMENT','MHTRTMT'])\n",
    "opioids.target = opioids['HEROINEVR']"
   ]
  },
  {
   "cell_type": "code",
   "execution_count": 6,
   "metadata": {
    "collapsed": true
   },
   "outputs": [],
   "source": [
    "from sklearn.model_selection import train_test_split\n",
    "\n",
    "X_train, X_test, y_train, y_test = train_test_split(\n",
    "    opioids.data, opioids.target, stratify=opioids.target, random_state=42)"
   ]
  },
  {
   "cell_type": "markdown",
   "metadata": {},
   "source": [
    "## Part 2. Logistic Regression Classifier\n",
    "* Decision boundary is a linear function of input\n",
    "* Binary linear classifier separates two classes using a line, plane, or hyperplane\n",
    "\n",
    "### Regularization Parameter C\n",
    "#### Low values of C: \n",
    "* Model tries to correctly classify all points correctly with a straight line\n",
    "* Cause models to try to adjust to the 'majority' of data points\n",
    "* May not capture overall layout of classes well; model is likely OVERFITTING! \n",
    "#### High values of C: \n",
    "* Correspond to less regularization, models will fit training set as best as possible\n",
    "* Stresses importance of each individual data point to be classified correctly \n",
    "\n",
    "\n",
    "## 2.1 Built Classifier Model on Training set"
   ]
  },
  {
   "cell_type": "code",
   "execution_count": 7,
   "metadata": {
    "collapsed": true
   },
   "outputs": [],
   "source": [
    "from sklearn.linear_model import LogisticRegression\n",
    "logreg = LogisticRegression().fit(X_train, y_train)"
   ]
  },
  {
   "cell_type": "markdown",
   "metadata": {},
   "source": [
    "## 2.2 Evaluate Classifier Model on Test set"
   ]
  },
  {
   "cell_type": "code",
   "execution_count": 8,
   "metadata": {},
   "outputs": [
    {
     "name": "stdout",
     "output_type": "stream",
     "text": [
      "Training set score: 0.984\n",
      "Test set score: 0.983\n"
     ]
    }
   ],
   "source": [
    "print(\"Training set score: {:.3f}\".format(logreg.score(X_train, y_train)))\n",
    "print(\"Test set score: {:.3f}\".format(logreg.score(X_test, y_test)))"
   ]
  },
  {
   "cell_type": "markdown",
   "metadata": {},
   "source": [
    "## 2.3 Adjust Model Parameter settings \n",
    "* Default setting `C=1` provides good performance for train and test sets\n",
    "* Very likely UNDERFITTING the test data\n",
    "\n",
    "### Higher value of C fits more 'Flexible' model\n",
    "* C=100 generally gives higher training set accuracy and slightly higher Test set accuracy"
   ]
  },
  {
   "cell_type": "code",
   "execution_count": 9,
   "metadata": {},
   "outputs": [
    {
     "name": "stdout",
     "output_type": "stream",
     "text": [
      "Training set score: 0.984\n",
      "Test set score: 0.983\n"
     ]
    }
   ],
   "source": [
    "logreg100 = LogisticRegression(C=100).fit(X_train, y_train)\n",
    "print(\"Training set score: {:.3f}\".format(logreg100.score(X_train, y_train)))\n",
    "print(\"Test set score: {:.3f}\".format(logreg100.score(X_test, y_test)))"
   ]
  },
  {
   "cell_type": "markdown",
   "metadata": {},
   "source": [
    "### Lower value of C fits more 'regularized' model\n",
    "* Setting C=0.01 leads model to try to adjust to 'majority' of data points"
   ]
  },
  {
   "cell_type": "code",
   "execution_count": 10,
   "metadata": {},
   "outputs": [
    {
     "name": "stdout",
     "output_type": "stream",
     "text": [
      "Training set score: 0.984\n",
      "Test set score: 0.983\n"
     ]
    }
   ],
   "source": [
    "logreg001 = LogisticRegression(C=0.01).fit(X_train, y_train)\n",
    "print(\"Training set score: {:.3f}\".format(logreg001.score(X_train, y_train)))\n",
    "print(\"Test set score: {:.3f}\".format(logreg001.score(X_test, y_test)))"
   ]
  },
  {
   "cell_type": "markdown",
   "metadata": {},
   "source": [
    "## 2.4 Plot Coefficients of Logistic Regression Classifier\n",
    "* Main difference between linear models for classification is penalty parameter\n",
    "* LogisticRegression applies `L2` (Ridge) regularization by default\n",
    "\n",
    "### Penalty Parameter (L) \n",
    "* L2 penalty (Ridge) uses all available features, regularization C pushes toward zero \n",
    "* L1 penalty (Lasso) sets coefficients for most features to zero, uses only a subset\n",
    "    * Improved interpretability with L2 penalty (Lasso)\n",
    "\n",
    "#### L1 Regularization (Lasso)\n",
    "*  Model is limited to using only a few features, more interpretable\n",
    "\n",
    "#### Legend: Different values of Parameter C\n",
    "* Stronger regularization pushes coefficients closer to zero\n",
    "* Parameter values can influence values of Coefficients"
   ]
  },
  {
   "cell_type": "code",
   "execution_count": 11,
   "metadata": {
    "scrolled": true
   },
   "outputs": [
    {
     "name": "stdout",
     "output_type": "stream",
     "text": [
      "Training accuracy of L1 logreg with C=0.010: 0.984\n",
      "Test accuracy of L1 logreg with C=0.010: 0.983\n",
      "Training accuracy of L1 logreg with C=1.000: 0.984\n",
      "Test accuracy of L1 logreg with C=1.000: 0.983\n",
      "Training accuracy of L1 logreg with C=100.000: 0.984\n",
      "Test accuracy of L1 logreg with C=100.000: 0.983\n"
     ]
    },
    {
     "data": {
      "text/plain": [
       "<matplotlib.legend.Legend at 0x118f90c50>"
      ]
     },
     "execution_count": 11,
     "metadata": {},
     "output_type": "execute_result"
    },
    {
     "data": {
      "image/png": "[encoded data removed]",
      "text/plain": [
       "<matplotlib.figure.Figure at 0x1189095f8>"
      ]
     },
     "metadata": {},
     "output_type": "display_data"
    }
   ],
   "source": [
    "for C, marker in zip([0.01, 1, 100], ['v', 'o', '^']):\n",
    "    lr_l1 = LogisticRegression(C=C, penalty=\"l1\").fit(X_train, y_train)\n",
    "    print(\"Training accuracy of L1 logreg with C={:.3f}: {:.3f}\".format(\n",
    "        C, lr_l1.score(X_train, y_train)))\n",
    "    print(\"Test accuracy of L1 logreg with C={:.3f}: {:.3f}\".format(\n",
    "        C, lr_l1.score(X_test, y_test)))\n",
    "    plt.plot(lr_l1.coef_.T, marker, label=\"C={:.3f}\".format(C))\n",
    "    \n",
    "plt.xticks(range(opioids.data.shape[1]), features, rotation=90)\n",
    "plt.hlines(0,0, opioids.data.shape[1])\n",
    "plt.xlabel(\"Coefficient Index\")\n",
    "plt.xlabel(\"Coefficient Magnitude\")\n",
    "\n",
    "plt.ylim(-2, 2)\n",
    "plt.legend()"
   ]
  },
  {
   "cell_type": "markdown",
   "metadata": {},
   "source": [
    "# Part 3. Decision Trees Classifier\n",
    "## Building decision tree \n",
    "* Continues until all leaves are pure leads to models that are complex, overfit\n",
    "* Presence of pure leaves means the tree is 100% accurate on the training set\n",
    "* Each data point in training set is in a leaf that has the correct majority class\n",
    "\n",
    "### Pre-pruning:  to Prevent Overfitting \n",
    "* Stopping creation of tree early\n",
    "* Limiting the maximum depth of the tree, or limiting maximum number of leaves\n",
    "* Requiring a minimum number of points in a node to keep splitting it\n",
    "\n",
    "## 3.1 Build Decision Trees Classifier Model for Heroin\n",
    "* Import package: `DecisionTreeClassifier`\n",
    "* Build model using default setting that fully develops tree until all leaves are pure\n",
    "* Fix the `random_state` in the tree, for breaking ties internally"
   ]
  },
  {
   "cell_type": "code",
   "execution_count": 12,
   "metadata": {},
   "outputs": [
    {
     "data": {
      "text/plain": [
       "DecisionTreeClassifier(class_weight=None, criterion='gini', max_depth=None,\n",
       "            max_features=None, max_leaf_nodes=None,\n",
       "            min_impurity_split=1e-07, min_samples_leaf=1,\n",
       "            min_samples_split=2, min_weight_fraction_leaf=0.0,\n",
       "            presort=False, random_state=0, splitter='best')"
      ]
     },
     "execution_count": 12,
     "metadata": {},
     "output_type": "execute_result"
    }
   ],
   "source": [
    "from IPython.display import Image, display\n",
    "from sklearn.tree import DecisionTreeClassifier\n",
    "\n",
    "tree = DecisionTreeClassifier(random_state=0)\n",
    "tree.fit(X_train, y_train)"
   ]
  },
  {
   "cell_type": "markdown",
   "metadata": {},
   "source": [
    "## 3.2 Evaluate Tree Classifier model on Test set "
   ]
  },
  {
   "cell_type": "code",
   "execution_count": 13,
   "metadata": {},
   "outputs": [
    {
     "name": "stdout",
     "output_type": "stream",
     "text": [
      "Accuracy on the training: 0.999\n",
      "Accuracy on the test set: 0.974\n"
     ]
    }
   ],
   "source": [
    "print(\"Accuracy on the training: {:.3f}\".format(tree.score(X_train, y_train)))\n",
    "print(\"Accuracy on the test set: {:.3f}\".format(tree.score(X_test, y_test)))"
   ]
  },
  {
   "cell_type": "markdown",
   "metadata": {},
   "source": [
    "## 3.3 Adjust Parameter Settings\n",
    "* Training set accuracy is 100% because leaves are pure\n",
    "* Trees can become arbitrarily deep, complex, if depth of the tree is not limmited\n",
    "* Unpruned trees are proone to overfitting and not generalizing well to new data\n",
    "\n",
    "### Pruning: Set max_depth=4\n",
    "* Tree depth is limited to 4 branches\n",
    "* Limiting depth of the tree decreases overfitting \n",
    "* Results in lower accuracy on training set, but improvement on test set"
   ]
  },
  {
   "cell_type": "code",
   "execution_count": 14,
   "metadata": {},
   "outputs": [
    {
     "name": "stdout",
     "output_type": "stream",
     "text": [
      "Accuracy on the training: 0.985\n",
      "Accuracy on the test set: 0.984\n"
     ]
    }
   ],
   "source": [
    "tree = DecisionTreeClassifier(max_depth=4, random_state=0)\n",
    "tree.fit(X_train, y_train)\n",
    "\n",
    "print(\"Accuracy on the training: {:.3f}\".format(tree.score(X_train, y_train)))\n",
    "print(\"Accuracy on the test set: {:.3f}\".format(tree.score(X_test, y_test)))"
   ]
  },
  {
   "cell_type": "markdown",
   "metadata": {},
   "source": [
    "## 3.4 Visualizing Decision Tree Classifier\n",
    "* Visualize the tree using export_graphviz function from trees module\n",
    "* Set an option to color the nodes to reflect majority class in each node\n",
    "* First, install graphviz at terminal using brew install graphviz"
   ]
  },
  {
   "cell_type": "code",
   "execution_count": 15,
   "metadata": {
    "collapsed": true
   },
   "outputs": [],
   "source": [
    "from sklearn.tree import export_graphviz\n",
    "\n",
    "export_graphviz(tree, out_file=\"tree.dot\", class_names=[\"Yes\", \"No\"],\n",
    "                feature_names=features, impurity=False, filled=True)"
   ]
  },
  {
   "cell_type": "code",
   "execution_count": 16,
   "metadata": {},
   "outputs": [
    {
     "data": {
      "image/svg+xml": [
       "<?xml version=\"1.0\" encoding=\"UTF-8\" standalone=\"no\"?>\n",
       "<!DOCTYPE svg PUBLIC \"-//W3C//DTD SVG 1.1//EN\"\n",
       " \"http://www.w3.org/Graphics/SVG/1.1/DTD/svg11.dtd\">\n",
       "<!-- Generated by graphviz version 2.40.1 (20161225.0304)\n",
       " -->\n",
       "<!-- Title: Tree Pages: 1 -->\n",
       "<svg width=\"1990pt\" height=\"458pt\"\n",
       " viewBox=\"0.00 0.00 1989.54 458.00\" xmlns=\"http://www.w3.org/2000/svg\" xmlns:xlink=\"http://www.w3.org/1999/xlink\">\n",
       "<g id=\"graph0\" class=\"graph\" transform=\"scale(1 1) rotate(0) translate(4 454)\">\n",
       "<title>Tree</title>\n",
       "<polygon fill=\"#ffffff\" stroke=\"transparent\" points=\"-4,4 -4,-454 1985.5371,-454 1985.5371,4 -4,4\"/>\n",
       "<!-- 0 -->\n",
       "<g id=\"node1\" class=\"node\">\n",
       "<title>0</title>\n",
       "<polygon fill=\"#e58139\" fill-opacity=\"0.984314\" stroke=\"#000000\" points=\"1063.8065,-450 930.7306,-450 930.7306,-386 1063.8065,-386 1063.8065,-450\"/>\n",
       "<text text-anchor=\"middle\" x=\"997.2686\" y=\"-434.8\" font-family=\"Times,serif\" font-size=\"14.00\" fill=\"#000000\">COCAINE &lt;= 1.5</text>\n",
       "<text text-anchor=\"middle\" x=\"997.2686\" y=\"-420.8\" font-family=\"Times,serif\" font-size=\"14.00\" fill=\"#000000\">samples = 42859</text>\n",
       "<text text-anchor=\"middle\" x=\"997.2686\" y=\"-406.8\" font-family=\"Times,serif\" font-size=\"14.00\" fill=\"#000000\">value = [42142, 717]</text>\n",
       "<text text-anchor=\"middle\" x=\"997.2686\" y=\"-392.8\" font-family=\"Times,serif\" font-size=\"14.00\" fill=\"#000000\">class = Yes</text>\n",
       "</g>\n",
       "<!-- 1 -->\n",
       "<g id=\"node2\" class=\"node\">\n",
       "<title>1</title>\n",
       "<polygon fill=\"#e58139\" fill-opacity=\"0.992157\" stroke=\"#000000\" points=\"819.8065,-350 686.7306,-350 686.7306,-286 819.8065,-286 819.8065,-350\"/>\n",
       "<text text-anchor=\"middle\" x=\"753.2686\" y=\"-334.8\" font-family=\"Times,serif\" font-size=\"14.00\" fill=\"#000000\">COCAINE &lt;= 0.5</text>\n",
       "<text text-anchor=\"middle\" x=\"753.2686\" y=\"-320.8\" font-family=\"Times,serif\" font-size=\"14.00\" fill=\"#000000\">samples = 40956</text>\n",
       "<text text-anchor=\"middle\" x=\"753.2686\" y=\"-306.8\" font-family=\"Times,serif\" font-size=\"14.00\" fill=\"#000000\">value = [40699, 257]</text>\n",
       "<text text-anchor=\"middle\" x=\"753.2686\" y=\"-292.8\" font-family=\"Times,serif\" font-size=\"14.00\" fill=\"#000000\">class = Yes</text>\n",
       "</g>\n",
       "<!-- 0&#45;&gt;1 -->\n",
       "<g id=\"edge1\" class=\"edge\">\n",
       "<title>0&#45;&gt;1</title>\n",
       "<path fill=\"none\" stroke=\"#000000\" d=\"M930.5945,-390.6746C899.259,-377.8321 861.7454,-362.4577 829.3085,-349.1639\"/>\n",
       "<polygon fill=\"#000000\" stroke=\"#000000\" points=\"830.4424,-345.8461 819.862,-345.2924 827.7878,-352.3233 830.4424,-345.8461\"/>\n",
       "<text text-anchor=\"middle\" x=\"829.5155\" y=\"-364.1534\" font-family=\"Times,serif\" font-size=\"14.00\" fill=\"#000000\">True</text>\n",
       "</g>\n",
       "<!-- 16 -->\n",
       "<g id=\"node17\" class=\"node\">\n",
       "<title>16</title>\n",
       "<polygon fill=\"#e58139\" fill-opacity=\"0.682353\" stroke=\"#000000\" points=\"1315.3065,-350 1189.2306,-350 1189.2306,-286 1315.3065,-286 1315.3065,-350\"/>\n",
       "<text text-anchor=\"middle\" x=\"1252.2686\" y=\"-334.8\" font-family=\"Times,serif\" font-size=\"14.00\" fill=\"#000000\">PRLANY &lt;= 3.5</text>\n",
       "<text text-anchor=\"middle\" x=\"1252.2686\" y=\"-320.8\" font-family=\"Times,serif\" font-size=\"14.00\" fill=\"#000000\">samples = 1903</text>\n",
       "<text text-anchor=\"middle\" x=\"1252.2686\" y=\"-306.8\" font-family=\"Times,serif\" font-size=\"14.00\" fill=\"#000000\">value = [1443, 460]</text>\n",
       "<text text-anchor=\"middle\" x=\"1252.2686\" y=\"-292.8\" font-family=\"Times,serif\" font-size=\"14.00\" fill=\"#000000\">class = Yes</text>\n",
       "</g>\n",
       "<!-- 0&#45;&gt;16 -->\n",
       "<g id=\"edge16\" class=\"edge\">\n",
       "<title>0&#45;&gt;16</title>\n",
       "<path fill=\"none\" stroke=\"#000000\" d=\"M1063.9337,-391.8568C1099.4247,-377.9388 1143.1299,-360.7995 1179.501,-346.5363\"/>\n",
       "<polygon fill=\"#000000\" stroke=\"#000000\" points=\"1181.0328,-349.6952 1189.0647,-342.7858 1178.4771,-343.1784 1181.0328,-349.6952\"/>\n",
       "<text text-anchor=\"middle\" x=\"1179.0611\" y=\"-361.4972\" font-family=\"Times,serif\" font-size=\"14.00\" fill=\"#000000\">False</text>\n",
       "</g>\n",
       "<!-- 2 -->\n",
       "<g id=\"node3\" class=\"node\">\n",
       "<title>2</title>\n",
       "<polygon fill=\"#e58139\" stroke=\"#000000\" points=\"456.6774,-250 319.8597,-250 319.8597,-186 456.6774,-186 456.6774,-250\"/>\n",
       "<text text-anchor=\"middle\" x=\"388.2686\" y=\"-234.8\" font-family=\"Times,serif\" font-size=\"14.00\" fill=\"#000000\">AMPHETMN &lt;= 1.5</text>\n",
       "<text text-anchor=\"middle\" x=\"388.2686\" y=\"-220.8\" font-family=\"Times,serif\" font-size=\"14.00\" fill=\"#000000\">samples = 37780</text>\n",
       "<text text-anchor=\"middle\" x=\"388.2686\" y=\"-206.8\" font-family=\"Times,serif\" font-size=\"14.00\" fill=\"#000000\">value = [37727, 53]</text>\n",
       "<text text-anchor=\"middle\" x=\"388.2686\" y=\"-192.8\" font-family=\"Times,serif\" font-size=\"14.00\" fill=\"#000000\">class = Yes</text>\n",
       "</g>\n",
       "<!-- 1&#45;&gt;2 -->\n",
       "<g id=\"edge2\" class=\"edge\">\n",
       "<title>1&#45;&gt;2</title>\n",
       "<path fill=\"none\" stroke=\"#000000\" d=\"M686.3219,-299.6585C624.2672,-282.6572 531.9326,-257.36 466.5037,-239.4343\"/>\n",
       "<polygon fill=\"#000000\" stroke=\"#000000\" points=\"467.2173,-236.0009 456.6479,-236.7341 465.3676,-242.7521 467.2173,-236.0009\"/>\n",
       "</g>\n",
       "<!-- 9 -->\n",
       "<g id=\"node10\" class=\"node\">\n",
       "<title>9</title>\n",
       "<polygon fill=\"#e58139\" fill-opacity=\"0.929412\" stroke=\"#000000\" points=\"816.3065,-250 690.2306,-250 690.2306,-186 816.3065,-186 816.3065,-250\"/>\n",
       "<text text-anchor=\"middle\" x=\"753.2686\" y=\"-234.8\" font-family=\"Times,serif\" font-size=\"14.00\" fill=\"#000000\">PRLANY &lt;= 5.5</text>\n",
       "<text text-anchor=\"middle\" x=\"753.2686\" y=\"-220.8\" font-family=\"Times,serif\" font-size=\"14.00\" fill=\"#000000\">samples = 3176</text>\n",
       "<text text-anchor=\"middle\" x=\"753.2686\" y=\"-206.8\" font-family=\"Times,serif\" font-size=\"14.00\" fill=\"#000000\">value = [2972, 204]</text>\n",
       "<text text-anchor=\"middle\" x=\"753.2686\" y=\"-192.8\" font-family=\"Times,serif\" font-size=\"14.00\" fill=\"#000000\">class = Yes</text>\n",
       "</g>\n",
       "<!-- 1&#45;&gt;9 -->\n",
       "<g id=\"edge9\" class=\"edge\">\n",
       "<title>1&#45;&gt;9</title>\n",
       "<path fill=\"none\" stroke=\"#000000\" d=\"M753.2686,-285.8089C753.2686,-277.6906 753.2686,-268.8517 753.2686,-260.3186\"/>\n",
       "<polygon fill=\"#000000\" stroke=\"#000000\" points=\"756.7687,-260.1307 753.2686,-250.1308 749.7687,-260.1308 756.7687,-260.1307\"/>\n",
       "</g>\n",
       "<!-- 3 -->\n",
       "<g id=\"node4\" class=\"node\">\n",
       "<title>3</title>\n",
       "<polygon fill=\"#e58139\" stroke=\"#000000\" points=\"260.3065,-150 134.2306,-150 134.2306,-86 260.3065,-86 260.3065,-150\"/>\n",
       "<text text-anchor=\"middle\" x=\"197.2686\" y=\"-134.8\" font-family=\"Times,serif\" font-size=\"14.00\" fill=\"#000000\">TRQLZRS &lt;= 3.5</text>\n",
       "<text text-anchor=\"middle\" x=\"197.2686\" y=\"-120.8\" font-family=\"Times,serif\" font-size=\"14.00\" fill=\"#000000\">samples = 37678</text>\n",
       "<text text-anchor=\"middle\" x=\"197.2686\" y=\"-106.8\" font-family=\"Times,serif\" font-size=\"14.00\" fill=\"#000000\">value = [37633, 45]</text>\n",
       "<text text-anchor=\"middle\" x=\"197.2686\" y=\"-92.8\" font-family=\"Times,serif\" font-size=\"14.00\" fill=\"#000000\">class = Yes</text>\n",
       "</g>\n",
       "<!-- 2&#45;&gt;3 -->\n",
       "<g id=\"edge3\" class=\"edge\">\n",
       "<title>2&#45;&gt;3</title>\n",
       "<path fill=\"none\" stroke=\"#000000\" d=\"M327.0468,-185.9467C308.0276,-175.989 286.9171,-164.9364 267.3434,-154.6884\"/>\n",
       "<polygon fill=\"#000000\" stroke=\"#000000\" points=\"268.9539,-151.581 258.4713,-150.0433 265.707,-157.7824 268.9539,-151.581\"/>\n",
       "</g>\n",
       "<!-- 6 -->\n",
       "<g id=\"node7\" class=\"node\">\n",
       "<title>6</title>\n",
       "<polygon fill=\"#e58139\" fill-opacity=\"0.913725\" stroke=\"#000000\" points=\"454.5675,-150 321.9696,-150 321.9696,-86 454.5675,-86 454.5675,-150\"/>\n",
       "<text text-anchor=\"middle\" x=\"388.2686\" y=\"-134.8\" font-family=\"Times,serif\" font-size=\"14.00\" fill=\"#000000\">PRLMISAB &lt;= 11.5</text>\n",
       "<text text-anchor=\"middle\" x=\"388.2686\" y=\"-120.8\" font-family=\"Times,serif\" font-size=\"14.00\" fill=\"#000000\">samples = 102</text>\n",
       "<text text-anchor=\"middle\" x=\"388.2686\" y=\"-106.8\" font-family=\"Times,serif\" font-size=\"14.00\" fill=\"#000000\">value = [94, 8]</text>\n",
       "<text text-anchor=\"middle\" x=\"388.2686\" y=\"-92.8\" font-family=\"Times,serif\" font-size=\"14.00\" fill=\"#000000\">class = Yes</text>\n",
       "</g>\n",
       "<!-- 2&#45;&gt;6 -->\n",
       "<g id=\"edge6\" class=\"edge\">\n",
       "<title>2&#45;&gt;6</title>\n",
       "<path fill=\"none\" stroke=\"#000000\" d=\"M388.2686,-185.8089C388.2686,-177.6906 388.2686,-168.8517 388.2686,-160.3186\"/>\n",
       "<polygon fill=\"#000000\" stroke=\"#000000\" points=\"391.7687,-160.1307 388.2686,-150.1308 384.7687,-160.1308 391.7687,-160.1307\"/>\n",
       "</g>\n",
       "<!-- 4 -->\n",
       "<g id=\"node5\" class=\"node\">\n",
       "<title>4</title>\n",
       "<polygon fill=\"#e58139\" stroke=\"#000000\" points=\"126.3065,-50 .2306,-50 .2306,0 126.3065,0 126.3065,-50\"/>\n",
       "<text text-anchor=\"middle\" x=\"63.2686\" y=\"-34.8\" font-family=\"Times,serif\" font-size=\"14.00\" fill=\"#000000\">samples = 37562</text>\n",
       "<text text-anchor=\"middle\" x=\"63.2686\" y=\"-20.8\" font-family=\"Times,serif\" font-size=\"14.00\" fill=\"#000000\">value = [37523, 39]</text>\n",
       "<text text-anchor=\"middle\" x=\"63.2686\" y=\"-6.8\" font-family=\"Times,serif\" font-size=\"14.00\" fill=\"#000000\">class = Yes</text>\n",
       "</g>\n",
       "<!-- 3&#45;&gt;4 -->\n",
       "<g id=\"edge4\" class=\"edge\">\n",
       "<title>3&#45;&gt;4</title>\n",
       "<path fill=\"none\" stroke=\"#000000\" d=\"M151.1534,-85.9947C137.1099,-76.2481 121.7063,-65.5575 107.7715,-55.8864\"/>\n",
       "<polygon fill=\"#000000\" stroke=\"#000000\" points=\"109.5212,-52.8404 99.3103,-50.014 105.53,-58.5911 109.5212,-52.8404\"/>\n",
       "</g>\n",
       "<!-- 5 -->\n",
       "<g id=\"node6\" class=\"node\">\n",
       "<title>5</title>\n",
       "<polygon fill=\"#e58139\" fill-opacity=\"0.945098\" stroke=\"#000000\" points=\"249.793,-50 144.7441,-50 144.7441,0 249.793,0 249.793,-50\"/>\n",
       "<text text-anchor=\"middle\" x=\"197.2686\" y=\"-34.8\" font-family=\"Times,serif\" font-size=\"14.00\" fill=\"#000000\">samples = 116</text>\n",
       "<text text-anchor=\"middle\" x=\"197.2686\" y=\"-20.8\" font-family=\"Times,serif\" font-size=\"14.00\" fill=\"#000000\">value = [110, 6]</text>\n",
       "<text text-anchor=\"middle\" x=\"197.2686\" y=\"-6.8\" font-family=\"Times,serif\" font-size=\"14.00\" fill=\"#000000\">class = Yes</text>\n",
       "</g>\n",
       "<!-- 3&#45;&gt;5 -->\n",
       "<g id=\"edge5\" class=\"edge\">\n",
       "<title>3&#45;&gt;5</title>\n",
       "<path fill=\"none\" stroke=\"#000000\" d=\"M197.2686,-85.9947C197.2686,-77.6273 197.2686,-68.5643 197.2686,-60.0478\"/>\n",
       "<polygon fill=\"#000000\" stroke=\"#000000\" points=\"200.7687,-60.014 197.2686,-50.014 193.7687,-60.0141 200.7687,-60.014\"/>\n",
       "</g>\n",
       "<!-- 7 -->\n",
       "<g id=\"node8\" class=\"node\">\n",
       "<title>7</title>\n",
       "<polygon fill=\"#e58139\" fill-opacity=\"0.925490\" stroke=\"#000000\" points=\"366.3067,-50 268.2304,-50 268.2304,0 366.3067,0 366.3067,-50\"/>\n",
       "<text text-anchor=\"middle\" x=\"317.2686\" y=\"-34.8\" font-family=\"Times,serif\" font-size=\"14.00\" fill=\"#000000\">samples = 101</text>\n",
       "<text text-anchor=\"middle\" x=\"317.2686\" y=\"-20.8\" font-family=\"Times,serif\" font-size=\"14.00\" fill=\"#000000\">value = [94, 7]</text>\n",
       "<text text-anchor=\"middle\" x=\"317.2686\" y=\"-6.8\" font-family=\"Times,serif\" font-size=\"14.00\" fill=\"#000000\">class = Yes</text>\n",
       "</g>\n",
       "<!-- 6&#45;&gt;7 -->\n",
       "<g id=\"edge7\" class=\"edge\">\n",
       "<title>6&#45;&gt;7</title>\n",
       "<path fill=\"none\" stroke=\"#000000\" d=\"M363.8344,-85.9947C356.955,-76.9837 349.4597,-67.1658 342.5328,-58.0927\"/>\n",
       "<polygon fill=\"#000000\" stroke=\"#000000\" points=\"345.2154,-55.8386 336.3653,-50.014 339.6515,-60.0863 345.2154,-55.8386\"/>\n",
       "</g>\n",
       "<!-- 8 -->\n",
       "<g id=\"node9\" class=\"node\">\n",
       "<title>8</title>\n",
       "<polygon fill=\"#399de5\" stroke=\"#000000\" points=\"475.8068,-50 384.7303,-50 384.7303,0 475.8068,0 475.8068,-50\"/>\n",
       "<text text-anchor=\"middle\" x=\"430.2686\" y=\"-34.8\" font-family=\"Times,serif\" font-size=\"14.00\" fill=\"#000000\">samples = 1</text>\n",
       "<text text-anchor=\"middle\" x=\"430.2686\" y=\"-20.8\" font-family=\"Times,serif\" font-size=\"14.00\" fill=\"#000000\">value = [0, 1]</text>\n",
       "<text text-anchor=\"middle\" x=\"430.2686\" y=\"-6.8\" font-family=\"Times,serif\" font-size=\"14.00\" fill=\"#000000\">class = No</text>\n",
       "</g>\n",
       "<!-- 6&#45;&gt;8 -->\n",
       "<g id=\"edge8\" class=\"edge\">\n",
       "<title>6&#45;&gt;8</title>\n",
       "<path fill=\"none\" stroke=\"#000000\" d=\"M402.7226,-85.9947C406.6259,-77.3515 410.8646,-67.966 414.8201,-59.2073\"/>\n",
       "<polygon fill=\"#000000\" stroke=\"#000000\" points=\"418.0458,-60.5683 418.9719,-50.014 411.6662,-57.6872 418.0458,-60.5683\"/>\n",
       "</g>\n",
       "<!-- 10 -->\n",
       "<g id=\"node11\" class=\"node\">\n",
       "<title>10</title>\n",
       "<polygon fill=\"#e58139\" fill-opacity=\"0.937255\" stroke=\"#000000\" points=\"744.3065,-150 618.2306,-150 618.2306,-86 744.3065,-86 744.3065,-150\"/>\n",
       "<text text-anchor=\"middle\" x=\"681.2686\" y=\"-134.8\" font-family=\"Times,serif\" font-size=\"14.00\" fill=\"#000000\">PRLMISAB &lt;= 0.5</text>\n",
       "<text text-anchor=\"middle\" x=\"681.2686\" y=\"-120.8\" font-family=\"Times,serif\" font-size=\"14.00\" fill=\"#000000\">samples = 3139</text>\n",
       "<text text-anchor=\"middle\" x=\"681.2686\" y=\"-106.8\" font-family=\"Times,serif\" font-size=\"14.00\" fill=\"#000000\">value = [2954, 185]</text>\n",
       "<text text-anchor=\"middle\" x=\"681.2686\" y=\"-92.8\" font-family=\"Times,serif\" font-size=\"14.00\" fill=\"#000000\">class = Yes</text>\n",
       "</g>\n",
       "<!-- 9&#45;&gt;10 -->\n",
       "<g id=\"edge10\" class=\"edge\">\n",
       "<title>9&#45;&gt;10</title>\n",
       "<path fill=\"none\" stroke=\"#000000\" d=\"M730.091,-185.8089C723.7961,-177.0661 716.8996,-167.4876 710.3244,-158.3553\"/>\n",
       "<polygon fill=\"#000000\" stroke=\"#000000\" points=\"713.0862,-156.201 704.4027,-150.1308 707.4054,-160.2912 713.0862,-156.201\"/>\n",
       "</g>\n",
       "<!-- 13 -->\n",
       "<g id=\"node14\" class=\"node\">\n",
       "<title>13</title>\n",
       "<polygon fill=\"#399de5\" fill-opacity=\"0.050980\" stroke=\"#000000\" points=\"888.5805,-150 761.9566,-150 761.9566,-86 888.5805,-86 888.5805,-150\"/>\n",
       "<text text-anchor=\"middle\" x=\"825.2686\" y=\"-134.8\" font-family=\"Times,serif\" font-size=\"14.00\" fill=\"#000000\">PRLMISAB &lt;= 7.5</text>\n",
       "<text text-anchor=\"middle\" x=\"825.2686\" y=\"-120.8\" font-family=\"Times,serif\" font-size=\"14.00\" fill=\"#000000\">samples = 37</text>\n",
       "<text text-anchor=\"middle\" x=\"825.2686\" y=\"-106.8\" font-family=\"Times,serif\" font-size=\"14.00\" fill=\"#000000\">value = [18, 19]</text>\n",
       "<text text-anchor=\"middle\" x=\"825.2686\" y=\"-92.8\" font-family=\"Times,serif\" font-size=\"14.00\" fill=\"#000000\">class = No</text>\n",
       "</g>\n",
       "<!-- 9&#45;&gt;13 -->\n",
       "<g id=\"edge13\" class=\"edge\">\n",
       "<title>9&#45;&gt;13</title>\n",
       "<path fill=\"none\" stroke=\"#000000\" d=\"M776.4461,-185.8089C782.741,-177.0661 789.6375,-167.4876 796.2127,-158.3553\"/>\n",
       "<polygon fill=\"#000000\" stroke=\"#000000\" points=\"799.1317,-160.2912 802.1344,-150.1308 793.4509,-156.201 799.1317,-160.2912\"/>\n",
       "</g>\n",
       "<!-- 11 -->\n",
       "<g id=\"node12\" class=\"node\">\n",
       "<title>11</title>\n",
       "<polygon fill=\"#e58139\" fill-opacity=\"0.964706\" stroke=\"#000000\" points=\"613.8066,-50 494.7306,-50 494.7306,0 613.8066,0 613.8066,-50\"/>\n",
       "<text text-anchor=\"middle\" x=\"554.2686\" y=\"-34.8\" font-family=\"Times,serif\" font-size=\"14.00\" fill=\"#000000\">samples = 2145</text>\n",
       "<text text-anchor=\"middle\" x=\"554.2686\" y=\"-20.8\" font-family=\"Times,serif\" font-size=\"14.00\" fill=\"#000000\">value = [2075, 70]</text>\n",
       "<text text-anchor=\"middle\" x=\"554.2686\" y=\"-6.8\" font-family=\"Times,serif\" font-size=\"14.00\" fill=\"#000000\">class = Yes</text>\n",
       "</g>\n",
       "<!-- 10&#45;&gt;11 -->\n",
       "<g id=\"edge11\" class=\"edge\">\n",
       "<title>10&#45;&gt;11</title>\n",
       "<path fill=\"none\" stroke=\"#000000\" d=\"M637.5624,-85.9947C624.3781,-76.3401 609.9289,-65.7592 596.8209,-56.1604\"/>\n",
       "<polygon fill=\"#000000\" stroke=\"#000000\" points=\"598.5635,-53.0984 588.4275,-50.014 594.4277,-58.746 598.5635,-53.0984\"/>\n",
       "</g>\n",
       "<!-- 12 -->\n",
       "<g id=\"node13\" class=\"node\">\n",
       "<title>12</title>\n",
       "<polygon fill=\"#e58139\" fill-opacity=\"0.870588\" stroke=\"#000000\" points=\"750.793,-50 631.7441,-50 631.7441,0 750.793,0 750.793,-50\"/>\n",
       "<text text-anchor=\"middle\" x=\"691.2686\" y=\"-34.8\" font-family=\"Times,serif\" font-size=\"14.00\" fill=\"#000000\">samples = 994</text>\n",
       "<text text-anchor=\"middle\" x=\"691.2686\" y=\"-20.8\" font-family=\"Times,serif\" font-size=\"14.00\" fill=\"#000000\">value = [879, 115]</text>\n",
       "<text text-anchor=\"middle\" x=\"691.2686\" y=\"-6.8\" font-family=\"Times,serif\" font-size=\"14.00\" fill=\"#000000\">class = Yes</text>\n",
       "</g>\n",
       "<!-- 10&#45;&gt;12 -->\n",
       "<g id=\"edge12\" class=\"edge\">\n",
       "<title>10&#45;&gt;12</title>\n",
       "<path fill=\"none\" stroke=\"#000000\" d=\"M684.71,-85.9947C685.6097,-77.6273 686.5842,-68.5643 687.5,-60.0478\"/>\n",
       "<polygon fill=\"#000000\" stroke=\"#000000\" points=\"690.9896,-60.3309 688.5789,-50.014 684.0297,-59.5825 690.9896,-60.3309\"/>\n",
       "</g>\n",
       "<!-- 14 -->\n",
       "<g id=\"node15\" class=\"node\">\n",
       "<title>14</title>\n",
       "<polygon fill=\"#e58139\" fill-opacity=\"0.749020\" stroke=\"#000000\" points=\"859.8068,-50 768.7303,-50 768.7303,0 859.8068,0 859.8068,-50\"/>\n",
       "<text text-anchor=\"middle\" x=\"814.2686\" y=\"-34.8\" font-family=\"Times,serif\" font-size=\"14.00\" fill=\"#000000\">samples = 10</text>\n",
       "<text text-anchor=\"middle\" x=\"814.2686\" y=\"-20.8\" font-family=\"Times,serif\" font-size=\"14.00\" fill=\"#000000\">value = [8, 2]</text>\n",
       "<text text-anchor=\"middle\" x=\"814.2686\" y=\"-6.8\" font-family=\"Times,serif\" font-size=\"14.00\" fill=\"#000000\">class = Yes</text>\n",
       "</g>\n",
       "<!-- 13&#45;&gt;14 -->\n",
       "<g id=\"edge14\" class=\"edge\">\n",
       "<title>13&#45;&gt;14</title>\n",
       "<path fill=\"none\" stroke=\"#000000\" d=\"M821.483,-85.9947C820.4933,-77.6273 819.4213,-68.5643 818.414,-60.0478\"/>\n",
       "<polygon fill=\"#000000\" stroke=\"#000000\" points=\"821.8777,-59.5337 817.2272,-50.014 814.9261,-60.356 821.8777,-59.5337\"/>\n",
       "</g>\n",
       "<!-- 15 -->\n",
       "<g id=\"node16\" class=\"node\">\n",
       "<title>15</title>\n",
       "<polygon fill=\"#399de5\" fill-opacity=\"0.411765\" stroke=\"#000000\" points=\"983.8067,-50 878.7304,-50 878.7304,0 983.8067,0 983.8067,-50\"/>\n",
       "<text text-anchor=\"middle\" x=\"931.2686\" y=\"-34.8\" font-family=\"Times,serif\" font-size=\"14.00\" fill=\"#000000\">samples = 27</text>\n",
       "<text text-anchor=\"middle\" x=\"931.2686\" y=\"-20.8\" font-family=\"Times,serif\" font-size=\"14.00\" fill=\"#000000\">value = [10, 17]</text>\n",
       "<text text-anchor=\"middle\" x=\"931.2686\" y=\"-6.8\" font-family=\"Times,serif\" font-size=\"14.00\" fill=\"#000000\">class = No</text>\n",
       "</g>\n",
       "<!-- 13&#45;&gt;15 -->\n",
       "<g id=\"edge15\" class=\"edge\">\n",
       "<title>13&#45;&gt;15</title>\n",
       "<path fill=\"none\" stroke=\"#000000\" d=\"M861.7477,-85.9947C872.5423,-76.524 884.3528,-66.1619 895.126,-56.7099\"/>\n",
       "<polygon fill=\"#000000\" stroke=\"#000000\" points=\"897.5492,-59.2401 902.7579,-50.014 892.9326,-53.9782 897.5492,-59.2401\"/>\n",
       "</g>\n",
       "<!-- 17 -->\n",
       "<g id=\"node18\" class=\"node\">\n",
       "<title>17</title>\n",
       "<polygon fill=\"#e58139\" fill-opacity=\"0.745098\" stroke=\"#000000\" points=\"1319.6319,-250 1184.9052,-250 1184.9052,-186 1319.6319,-186 1319.6319,-250\"/>\n",
       "<text text-anchor=\"middle\" x=\"1252.2686\" y=\"-234.8\" font-family=\"Times,serif\" font-size=\"14.00\" fill=\"#000000\">PRLMISEVR &lt;= 0.5</text>\n",
       "<text text-anchor=\"middle\" x=\"1252.2686\" y=\"-220.8\" font-family=\"Times,serif\" font-size=\"14.00\" fill=\"#000000\">samples = 1688</text>\n",
       "<text text-anchor=\"middle\" x=\"1252.2686\" y=\"-206.8\" font-family=\"Times,serif\" font-size=\"14.00\" fill=\"#000000\">value = [1346, 342]</text>\n",
       "<text text-anchor=\"middle\" x=\"1252.2686\" y=\"-192.8\" font-family=\"Times,serif\" font-size=\"14.00\" fill=\"#000000\">class = Yes</text>\n",
       "</g>\n",
       "<!-- 16&#45;&gt;17 -->\n",
       "<g id=\"edge17\" class=\"edge\">\n",
       "<title>16&#45;&gt;17</title>\n",
       "<path fill=\"none\" stroke=\"#000000\" d=\"M1252.2686,-285.8089C1252.2686,-277.6906 1252.2686,-268.8517 1252.2686,-260.3186\"/>\n",
       "<polygon fill=\"#000000\" stroke=\"#000000\" points=\"1255.7687,-260.1307 1252.2686,-250.1308 1248.7687,-260.1308 1255.7687,-260.1307\"/>\n",
       "</g>\n",
       "<!-- 24 -->\n",
       "<g id=\"node25\" class=\"node\">\n",
       "<title>24</title>\n",
       "<polygon fill=\"#399de5\" fill-opacity=\"0.176471\" stroke=\"#000000\" points=\"1683.2881,-250 1565.249,-250 1565.249,-186 1683.2881,-186 1683.2881,-250\"/>\n",
       "<text text-anchor=\"middle\" x=\"1624.2686\" y=\"-234.8\" font-family=\"Times,serif\" font-size=\"14.00\" fill=\"#000000\">TRQLZRS &lt;= 4.5</text>\n",
       "<text text-anchor=\"middle\" x=\"1624.2686\" y=\"-220.8\" font-family=\"Times,serif\" font-size=\"14.00\" fill=\"#000000\">samples = 215</text>\n",
       "<text text-anchor=\"middle\" x=\"1624.2686\" y=\"-206.8\" font-family=\"Times,serif\" font-size=\"14.00\" fill=\"#000000\">value = [97, 118]</text>\n",
       "<text text-anchor=\"middle\" x=\"1624.2686\" y=\"-192.8\" font-family=\"Times,serif\" font-size=\"14.00\" fill=\"#000000\">class = No</text>\n",
       "</g>\n",
       "<!-- 16&#45;&gt;24 -->\n",
       "<g id=\"edge24\" class=\"edge\">\n",
       "<title>16&#45;&gt;24</title>\n",
       "<path fill=\"none\" stroke=\"#000000\" d=\"M1315.3733,-301.0364C1381.956,-283.1378 1486.5686,-255.0161 1555.2902,-236.5426\"/>\n",
       "<polygon fill=\"#000000\" stroke=\"#000000\" points=\"1556.4117,-239.8654 1565.1603,-233.8893 1554.5945,-233.1054 1556.4117,-239.8654\"/>\n",
       "</g>\n",
       "<!-- 18 -->\n",
       "<g id=\"node19\" class=\"node\">\n",
       "<title>18</title>\n",
       "<polygon fill=\"#e58139\" fill-opacity=\"0.858824\" stroke=\"#000000\" points=\"1243.793,-150 1124.7441,-150 1124.7441,-86 1243.793,-86 1243.793,-150\"/>\n",
       "<text text-anchor=\"middle\" x=\"1184.2686\" y=\"-134.8\" font-family=\"Times,serif\" font-size=\"14.00\" fill=\"#000000\">COCAINE &lt;= 4.5</text>\n",
       "<text text-anchor=\"middle\" x=\"1184.2686\" y=\"-120.8\" font-family=\"Times,serif\" font-size=\"14.00\" fill=\"#000000\">samples = 897</text>\n",
       "<text text-anchor=\"middle\" x=\"1184.2686\" y=\"-106.8\" font-family=\"Times,serif\" font-size=\"14.00\" fill=\"#000000\">value = [785, 112]</text>\n",
       "<text text-anchor=\"middle\" x=\"1184.2686\" y=\"-92.8\" font-family=\"Times,serif\" font-size=\"14.00\" fill=\"#000000\">class = Yes</text>\n",
       "</g>\n",
       "<!-- 17&#45;&gt;18 -->\n",
       "<g id=\"edge18\" class=\"edge\">\n",
       "<title>17&#45;&gt;18</title>\n",
       "<path fill=\"none\" stroke=\"#000000\" d=\"M1230.3786,-185.8089C1224.4942,-177.1553 1218.053,-167.683 1211.9004,-158.635\"/>\n",
       "<polygon fill=\"#000000\" stroke=\"#000000\" points=\"1214.6349,-156.4319 1206.1175,-150.1308 1208.8464,-160.3681 1214.6349,-156.4319\"/>\n",
       "</g>\n",
       "<!-- 21 -->\n",
       "<g id=\"node22\" class=\"node\">\n",
       "<title>21</title>\n",
       "<polygon fill=\"#e58139\" fill-opacity=\"0.588235\" stroke=\"#000000\" points=\"1380.8066,-150 1261.7306,-150 1261.7306,-86 1380.8066,-86 1380.8066,-150\"/>\n",
       "<text text-anchor=\"middle\" x=\"1321.2686\" y=\"-134.8\" font-family=\"Times,serif\" font-size=\"14.00\" fill=\"#000000\">COCAINE &lt;= 3.5</text>\n",
       "<text text-anchor=\"middle\" x=\"1321.2686\" y=\"-120.8\" font-family=\"Times,serif\" font-size=\"14.00\" fill=\"#000000\">samples = 791</text>\n",
       "<text text-anchor=\"middle\" x=\"1321.2686\" y=\"-106.8\" font-family=\"Times,serif\" font-size=\"14.00\" fill=\"#000000\">value = [561, 230]</text>\n",
       "<text text-anchor=\"middle\" x=\"1321.2686\" y=\"-92.8\" font-family=\"Times,serif\" font-size=\"14.00\" fill=\"#000000\">class = Yes</text>\n",
       "</g>\n",
       "<!-- 17&#45;&gt;21 -->\n",
       "<g id=\"edge21\" class=\"edge\">\n",
       "<title>17&#45;&gt;21</title>\n",
       "<path fill=\"none\" stroke=\"#000000\" d=\"M1274.4804,-185.8089C1280.4514,-177.1553 1286.9873,-167.683 1293.2304,-158.635\"/>\n",
       "<polygon fill=\"#000000\" stroke=\"#000000\" points=\"1296.2998,-160.3493 1299.0983,-150.1308 1290.5382,-156.3738 1296.2998,-160.3493\"/>\n",
       "</g>\n",
       "<!-- 19 -->\n",
       "<g id=\"node20\" class=\"node\">\n",
       "<title>19</title>\n",
       "<polygon fill=\"#e58139\" fill-opacity=\"0.866667\" stroke=\"#000000\" points=\"1121.8066,-50 1002.7306,-50 1002.7306,0 1121.8066,0 1121.8066,-50\"/>\n",
       "<text text-anchor=\"middle\" x=\"1062.2686\" y=\"-34.8\" font-family=\"Times,serif\" font-size=\"14.00\" fill=\"#000000\">samples = 878</text>\n",
       "<text text-anchor=\"middle\" x=\"1062.2686\" y=\"-20.8\" font-family=\"Times,serif\" font-size=\"14.00\" fill=\"#000000\">value = [775, 103]</text>\n",
       "<text text-anchor=\"middle\" x=\"1062.2686\" y=\"-6.8\" font-family=\"Times,serif\" font-size=\"14.00\" fill=\"#000000\">class = Yes</text>\n",
       "</g>\n",
       "<!-- 18&#45;&gt;19 -->\n",
       "<g id=\"edge19\" class=\"edge\">\n",
       "<title>18&#45;&gt;19</title>\n",
       "<path fill=\"none\" stroke=\"#000000\" d=\"M1142.2831,-85.9947C1129.6179,-76.3401 1115.7376,-65.7592 1103.1456,-56.1604\"/>\n",
       "<polygon fill=\"#000000\" stroke=\"#000000\" points=\"1105.1574,-53.293 1095.0827,-50.014 1100.9136,-58.86 1105.1574,-53.293\"/>\n",
       "</g>\n",
       "<!-- 20 -->\n",
       "<g id=\"node21\" class=\"node\">\n",
       "<title>20</title>\n",
       "<polygon fill=\"#e58139\" fill-opacity=\"0.098039\" stroke=\"#000000\" points=\"1238.3067,-50 1140.2304,-50 1140.2304,0 1238.3067,0 1238.3067,-50\"/>\n",
       "<text text-anchor=\"middle\" x=\"1189.2686\" y=\"-34.8\" font-family=\"Times,serif\" font-size=\"14.00\" fill=\"#000000\">samples = 19</text>\n",
       "<text text-anchor=\"middle\" x=\"1189.2686\" y=\"-20.8\" font-family=\"Times,serif\" font-size=\"14.00\" fill=\"#000000\">value = [10, 9]</text>\n",
       "<text text-anchor=\"middle\" x=\"1189.2686\" y=\"-6.8\" font-family=\"Times,serif\" font-size=\"14.00\" fill=\"#000000\">class = Yes</text>\n",
       "</g>\n",
       "<!-- 18&#45;&gt;20 -->\n",
       "<g id=\"edge20\" class=\"edge\">\n",
       "<title>18&#45;&gt;20</title>\n",
       "<path fill=\"none\" stroke=\"#000000\" d=\"M1185.9893,-85.9947C1186.4391,-77.6273 1186.9264,-68.5643 1187.3843,-60.0478\"/>\n",
       "<polygon fill=\"#000000\" stroke=\"#000000\" points=\"1190.8817,-60.1875 1187.9237,-50.014 1183.8918,-59.8117 1190.8817,-60.1875\"/>\n",
       "</g>\n",
       "<!-- 22 -->\n",
       "<g id=\"node23\" class=\"node\">\n",
       "<title>22</title>\n",
       "<polygon fill=\"#e58139\" fill-opacity=\"0.635294\" stroke=\"#000000\" points=\"1375.8066,-50 1256.7306,-50 1256.7306,0 1375.8066,0 1375.8066,-50\"/>\n",
       "<text text-anchor=\"middle\" x=\"1316.2686\" y=\"-34.8\" font-family=\"Times,serif\" font-size=\"14.00\" fill=\"#000000\">samples = 731</text>\n",
       "<text text-anchor=\"middle\" x=\"1316.2686\" y=\"-20.8\" font-family=\"Times,serif\" font-size=\"14.00\" fill=\"#000000\">value = [536, 195]</text>\n",
       "<text text-anchor=\"middle\" x=\"1316.2686\" y=\"-6.8\" font-family=\"Times,serif\" font-size=\"14.00\" fill=\"#000000\">class = Yes</text>\n",
       "</g>\n",
       "<!-- 21&#45;&gt;22 -->\n",
       "<g id=\"edge22\" class=\"edge\">\n",
       "<title>21&#45;&gt;22</title>\n",
       "<path fill=\"none\" stroke=\"#000000\" d=\"M1319.5478,-85.9947C1319.098,-77.6273 1318.6107,-68.5643 1318.1528,-60.0478\"/>\n",
       "<polygon fill=\"#000000\" stroke=\"#000000\" points=\"1321.6453,-59.8117 1317.6134,-50.014 1314.6554,-60.1875 1321.6453,-59.8117\"/>\n",
       "</g>\n",
       "<!-- 23 -->\n",
       "<g id=\"node24\" class=\"node\">\n",
       "<title>23</title>\n",
       "<polygon fill=\"#399de5\" fill-opacity=\"0.286275\" stroke=\"#000000\" points=\"1499.8067,-50 1394.7304,-50 1394.7304,0 1499.8067,0 1499.8067,-50\"/>\n",
       "<text text-anchor=\"middle\" x=\"1447.2686\" y=\"-34.8\" font-family=\"Times,serif\" font-size=\"14.00\" fill=\"#000000\">samples = 60</text>\n",
       "<text text-anchor=\"middle\" x=\"1447.2686\" y=\"-20.8\" font-family=\"Times,serif\" font-size=\"14.00\" fill=\"#000000\">value = [25, 35]</text>\n",
       "<text text-anchor=\"middle\" x=\"1447.2686\" y=\"-6.8\" font-family=\"Times,serif\" font-size=\"14.00\" fill=\"#000000\">class = No</text>\n",
       "</g>\n",
       "<!-- 21&#45;&gt;23 -->\n",
       "<g id=\"edge23\" class=\"edge\">\n",
       "<title>21&#45;&gt;23</title>\n",
       "<path fill=\"none\" stroke=\"#000000\" d=\"M1364.6306,-85.9947C1377.7111,-76.3401 1392.0465,-65.7592 1405.0513,-56.1604\"/>\n",
       "<polygon fill=\"#000000\" stroke=\"#000000\" points=\"1407.4113,-58.7686 1413.3786,-50.014 1403.2543,-53.1366 1407.4113,-58.7686\"/>\n",
       "</g>\n",
       "<!-- 25 -->\n",
       "<g id=\"node26\" class=\"node\">\n",
       "<title>25</title>\n",
       "<polygon fill=\"#e58139\" fill-opacity=\"0.070588\" stroke=\"#000000\" points=\"1687.5805,-150 1560.9566,-150 1560.9566,-86 1687.5805,-86 1687.5805,-150\"/>\n",
       "<text text-anchor=\"middle\" x=\"1624.2686\" y=\"-134.8\" font-family=\"Times,serif\" font-size=\"14.00\" fill=\"#000000\">PRLMISAB &lt;= 8.5</text>\n",
       "<text text-anchor=\"middle\" x=\"1624.2686\" y=\"-120.8\" font-family=\"Times,serif\" font-size=\"14.00\" fill=\"#000000\">samples = 168</text>\n",
       "<text text-anchor=\"middle\" x=\"1624.2686\" y=\"-106.8\" font-family=\"Times,serif\" font-size=\"14.00\" fill=\"#000000\">value = [87, 81]</text>\n",
       "<text text-anchor=\"middle\" x=\"1624.2686\" y=\"-92.8\" font-family=\"Times,serif\" font-size=\"14.00\" fill=\"#000000\">class = Yes</text>\n",
       "</g>\n",
       "<!-- 24&#45;&gt;25 -->\n",
       "<g id=\"edge25\" class=\"edge\">\n",
       "<title>24&#45;&gt;25</title>\n",
       "<path fill=\"none\" stroke=\"#000000\" d=\"M1624.2686,-185.8089C1624.2686,-177.6906 1624.2686,-168.8517 1624.2686,-160.3186\"/>\n",
       "<polygon fill=\"#000000\" stroke=\"#000000\" points=\"1627.7687,-160.1307 1624.2686,-150.1308 1620.7687,-160.1308 1627.7687,-160.1307\"/>\n",
       "</g>\n",
       "<!-- 28 -->\n",
       "<g id=\"node29\" class=\"node\">\n",
       "<title>28</title>\n",
       "<polygon fill=\"#399de5\" fill-opacity=\"0.729412\" stroke=\"#000000\" points=\"1871.0539,-150 1759.4832,-150 1759.4832,-86 1871.0539,-86 1871.0539,-150\"/>\n",
       "<text text-anchor=\"middle\" x=\"1815.2686\" y=\"-134.8\" font-family=\"Times,serif\" font-size=\"14.00\" fill=\"#000000\">PRLANY &lt;= 6.5</text>\n",
       "<text text-anchor=\"middle\" x=\"1815.2686\" y=\"-120.8\" font-family=\"Times,serif\" font-size=\"14.00\" fill=\"#000000\">samples = 47</text>\n",
       "<text text-anchor=\"middle\" x=\"1815.2686\" y=\"-106.8\" font-family=\"Times,serif\" font-size=\"14.00\" fill=\"#000000\">value = [10, 37]</text>\n",
       "<text text-anchor=\"middle\" x=\"1815.2686\" y=\"-92.8\" font-family=\"Times,serif\" font-size=\"14.00\" fill=\"#000000\">class = No</text>\n",
       "</g>\n",
       "<!-- 24&#45;&gt;28 -->\n",
       "<g id=\"edge28\" class=\"edge\">\n",
       "<title>24&#45;&gt;28</title>\n",
       "<path fill=\"none\" stroke=\"#000000\" d=\"M1683.3941,-187.0442C1704.5803,-175.952 1728.5744,-163.3896 1750.2334,-152.0498\"/>\n",
       "<polygon fill=\"#000000\" stroke=\"#000000\" points=\"1752.122,-155.0118 1759.3578,-147.2726 1748.8752,-148.8103 1752.122,-155.0118\"/>\n",
       "</g>\n",
       "<!-- 26 -->\n",
       "<g id=\"node27\" class=\"node\">\n",
       "<title>26</title>\n",
       "<polygon fill=\"#e58139\" fill-opacity=\"0.454902\" stroke=\"#000000\" points=\"1623.8067,-50 1518.7304,-50 1518.7304,0 1623.8067,0 1623.8067,-50\"/>\n",
       "<text text-anchor=\"middle\" x=\"1571.2686\" y=\"-34.8\" font-family=\"Times,serif\" font-size=\"14.00\" fill=\"#000000\">samples = 71</text>\n",
       "<text text-anchor=\"middle\" x=\"1571.2686\" y=\"-20.8\" font-family=\"Times,serif\" font-size=\"14.00\" fill=\"#000000\">value = [46, 25]</text>\n",
       "<text text-anchor=\"middle\" x=\"1571.2686\" y=\"-6.8\" font-family=\"Times,serif\" font-size=\"14.00\" fill=\"#000000\">class = Yes</text>\n",
       "</g>\n",
       "<!-- 25&#45;&gt;26 -->\n",
       "<g id=\"edge26\" class=\"edge\">\n",
       "<title>25&#45;&gt;26</title>\n",
       "<path fill=\"none\" stroke=\"#000000\" d=\"M1606.029,-85.9947C1601.0509,-77.2595 1595.6407,-67.7662 1590.6038,-58.928\"/>\n",
       "<polygon fill=\"#000000\" stroke=\"#000000\" points=\"1593.5161,-56.9692 1585.5239,-50.014 1587.4344,-60.4352 1593.5161,-56.9692\"/>\n",
       "</g>\n",
       "<!-- 27 -->\n",
       "<g id=\"node28\" class=\"node\">\n",
       "<title>27</title>\n",
       "<polygon fill=\"#399de5\" fill-opacity=\"0.266667\" stroke=\"#000000\" points=\"1747.8067,-50 1642.7304,-50 1642.7304,0 1747.8067,0 1747.8067,-50\"/>\n",
       "<text text-anchor=\"middle\" x=\"1695.2686\" y=\"-34.8\" font-family=\"Times,serif\" font-size=\"14.00\" fill=\"#000000\">samples = 97</text>\n",
       "<text text-anchor=\"middle\" x=\"1695.2686\" y=\"-20.8\" font-family=\"Times,serif\" font-size=\"14.00\" fill=\"#000000\">value = [41, 56]</text>\n",
       "<text text-anchor=\"middle\" x=\"1695.2686\" y=\"-6.8\" font-family=\"Times,serif\" font-size=\"14.00\" fill=\"#000000\">class = No</text>\n",
       "</g>\n",
       "<!-- 25&#45;&gt;27 -->\n",
       "<g id=\"edge27\" class=\"edge\">\n",
       "<title>25&#45;&gt;27</title>\n",
       "<path fill=\"none\" stroke=\"#000000\" d=\"M1648.7027,-85.9947C1655.5821,-76.9837 1663.0774,-67.1658 1670.0043,-58.0927\"/>\n",
       "<polygon fill=\"#000000\" stroke=\"#000000\" points=\"1672.8856,-60.0863 1676.1718,-50.014 1667.3217,-55.8386 1672.8856,-60.0863\"/>\n",
       "</g>\n",
       "<!-- 29 -->\n",
       "<g id=\"node30\" class=\"node\">\n",
       "<title>29</title>\n",
       "<polygon fill=\"#399de5\" fill-opacity=\"0.400000\" stroke=\"#000000\" points=\"1864.3067,-50 1766.2304,-50 1766.2304,0 1864.3067,0 1864.3067,-50\"/>\n",
       "<text text-anchor=\"middle\" x=\"1815.2686\" y=\"-34.8\" font-family=\"Times,serif\" font-size=\"14.00\" fill=\"#000000\">samples = 24</text>\n",
       "<text text-anchor=\"middle\" x=\"1815.2686\" y=\"-20.8\" font-family=\"Times,serif\" font-size=\"14.00\" fill=\"#000000\">value = [9, 15]</text>\n",
       "<text text-anchor=\"middle\" x=\"1815.2686\" y=\"-6.8\" font-family=\"Times,serif\" font-size=\"14.00\" fill=\"#000000\">class = No</text>\n",
       "</g>\n",
       "<!-- 28&#45;&gt;29 -->\n",
       "<g id=\"edge29\" class=\"edge\">\n",
       "<title>28&#45;&gt;29</title>\n",
       "<path fill=\"none\" stroke=\"#000000\" d=\"M1815.2686,-85.9947C1815.2686,-77.6273 1815.2686,-68.5643 1815.2686,-60.0478\"/>\n",
       "<polygon fill=\"#000000\" stroke=\"#000000\" points=\"1818.7687,-60.014 1815.2686,-50.014 1811.7687,-60.0141 1818.7687,-60.014\"/>\n",
       "</g>\n",
       "<!-- 30 -->\n",
       "<g id=\"node31\" class=\"node\">\n",
       "<title>30</title>\n",
       "<polygon fill=\"#399de5\" fill-opacity=\"0.952941\" stroke=\"#000000\" points=\"1981.3067,-50 1883.2304,-50 1883.2304,0 1981.3067,0 1981.3067,-50\"/>\n",
       "<text text-anchor=\"middle\" x=\"1932.2686\" y=\"-34.8\" font-family=\"Times,serif\" font-size=\"14.00\" fill=\"#000000\">samples = 23</text>\n",
       "<text text-anchor=\"middle\" x=\"1932.2686\" y=\"-20.8\" font-family=\"Times,serif\" font-size=\"14.00\" fill=\"#000000\">value = [1, 22]</text>\n",
       "<text text-anchor=\"middle\" x=\"1932.2686\" y=\"-6.8\" font-family=\"Times,serif\" font-size=\"14.00\" fill=\"#000000\">class = No</text>\n",
       "</g>\n",
       "<!-- 28&#45;&gt;30 -->\n",
       "<g id=\"edge30\" class=\"edge\">\n",
       "<title>28&#45;&gt;30</title>\n",
       "<path fill=\"none\" stroke=\"#000000\" d=\"M1855.5333,-85.9947C1867.5638,-76.432 1880.7374,-65.9606 1892.7214,-56.4349\"/>\n",
       "<polygon fill=\"#000000\" stroke=\"#000000\" points=\"1895.1489,-58.9764 1900.7993,-50.014 1890.7932,-53.4966 1895.1489,-58.9764\"/>\n",
       "</g>\n",
       "</g>\n",
       "</svg>\n"
      ],
      "text/plain": [
       "<graphviz.files.Source at 0x118f84c88>"
      ]
     },
     "metadata": {},
     "output_type": "display_data"
    }
   ],
   "source": [
    "from IPython.display import display\n",
    "\n",
    "import graphviz\n",
    "\n",
    "with open('tree.dot') as f:\n",
    "    dot_graph = f.read()\n",
    "\n",
    "display(graphviz.Source(dot_graph))"
   ]
  },
  {
   "cell_type": "markdown",
   "metadata": {},
   "source": [
    "## Feature Importance in Trees\n",
    "* Relates how important each feature is for the decision a tree makes\n",
    "* Values range from 0 = \"Not at all\", to 1 = perfectly predicts target\"\n",
    "* Feature importances always sum to a total of 1.\n",
    "\n",
    "## 3.5 Visualize Feature Importancee\n",
    "* Similar to how we visualized coefficients in linear model\n",
    "* Features used in top split (\"worst radius\") is most important feature\n",
    "* Features with low importance may be redundant with another feature that encodes same info "
   ]
  },
  {
   "cell_type": "code",
   "execution_count": 17,
   "metadata": {},
   "outputs": [
    {
     "name": "stdout",
     "output_type": "stream",
     "text": [
      "Feature importances:\n",
      "[ 0.          0.          0.          0.          0.          0.          0.\n",
      "  0.          0.06541843  0.05071549  0.17928188  0.02100762  0.\n",
      "  0.68014547  0.0034311   0.          0.        ]\n"
     ]
    }
   ],
   "source": [
    "print(\"Feature importances:\\n{}\".format(tree.feature_importances_))"
   ]
  },
  {
   "cell_type": "code",
   "execution_count": 18,
   "metadata": {},
   "outputs": [
    {
     "data": {
      "image/png": "[encoded data removed]",
      "text/plain": [
       "<matplotlib.figure.Figure at 0x11f5211d0>"
      ]
     },
     "metadata": {},
     "output_type": "display_data"
    }
   ],
   "source": [
    "def plot_feature_importances_heroin(model):\n",
    "    n_features = opioids.data.shape[1]\n",
    "    plt.barh(range(n_features), model.feature_importances_, align='center')\n",
    "    plt.yticks(np.arange(n_features), features)\n",
    "    plt.xlabel(\"Feature importance\")\n",
    "    plt.ylabel(\"Feature\")\n",
    "\n",
    "plot_feature_importances_heroin(tree)"
   ]
  },
  {
   "cell_type": "markdown",
   "metadata": {},
   "source": [
    "# Part 4. Random Forests Classifier\n",
    "* Random forest gives better accuracy than linear models or single decision tree, without tuning any parameters\n",
    "\n",
    "## Building Random Forests\n",
    "* First, need to decide how many trees to build: `n_estimators` parameter\n",
    "* Trees are built independently of each other, based on \"bootstrap\" samples: `n_samples`\n",
    "* Algorithm randomly selects subset of features, number determined by `max_features` paramter\n",
    "* Each node of tree makes decision involving different subset of features\n",
    "\n",
    "### Bootstrap Sampling and Subsets of Features\n",
    "* Each decision tree in random forest is built on slightly different dataset\n",
    "* Each split in each tree operates on different subset of features\n",
    "\n",
    "## Critical Parameter: max_features\n",
    "* If `max_features` set to `n_features`, each split can look at all features inthe dataset, no randomness in selection\n",
    "* High `max_features` means the trees in a random forest will be quite similar\n",
    "* Low `max_feature` means trees in random forest will be quite different\n",
    "\n",
    "### Prediction with Random Forests\n",
    "* Algorithm first makes prediction for every tree in the forest\n",
    "* For classification, a \"soft voting\" is applied, probabilities for all trees are then averaged, and class with highest probability is predicted\n",
    "\n",
    "## 3.1 Build Random Forests Classifier: Heroin\n",
    "* Split data into train and test sets; \n",
    "* set `n_estimators` to 100 trees; build model on the training set"
   ]
  },
  {
   "cell_type": "code",
   "execution_count": 19,
   "metadata": {},
   "outputs": [
    {
     "data": {
      "text/plain": [
       "RandomForestClassifier(bootstrap=True, class_weight=None, criterion='gini',\n",
       "            max_depth=None, max_features='auto', max_leaf_nodes=None,\n",
       "            min_impurity_split=1e-07, min_samples_leaf=1,\n",
       "            min_samples_split=2, min_weight_fraction_leaf=0.0,\n",
       "            n_estimators=100, n_jobs=1, oob_score=False, random_state=0,\n",
       "            verbose=0, warm_start=False)"
      ]
     },
     "execution_count": 19,
     "metadata": {},
     "output_type": "execute_result"
    }
   ],
   "source": [
    "from sklearn.ensemble import RandomForestClassifier\n",
    "\n",
    "forest = RandomForestClassifier(n_estimators=100, random_state=0)\n",
    "forest.fit(X_train, y_train)"
   ]
  },
  {
   "cell_type": "markdown",
   "metadata": {},
   "source": [
    "## 3.2 Evaluate Random Forests Classifier on Test set"
   ]
  },
  {
   "cell_type": "code",
   "execution_count": 20,
   "metadata": {},
   "outputs": [
    {
     "name": "stdout",
     "output_type": "stream",
     "text": [
      "Accuracy on training set: 0.999\n",
      "Accuracy on test set: 0.984\n"
     ]
    }
   ],
   "source": [
    "print(\"Accuracy on training set: {:.3f}\".format(forest.score(X_train, y_train)))\n",
    "print(\"Accuracy on test set: {:.3f}\".format(forest.score(X_test, y_test)))"
   ]
  },
  {
   "cell_type": "markdown",
   "metadata": {},
   "source": [
    "## 3.3 Features Importance for Random Forest\n",
    "* Computed by aggregating the feature importances over the trees in the forest\n",
    "* Feature importances provided by Random Forest are more reliable than provided by single tree\n",
    "* Many more features have non-zero importance than single tree, chooses similar features"
   ]
  },
  {
   "cell_type": "code",
   "execution_count": 21,
   "metadata": {},
   "outputs": [
    {
     "data": {
      "image/png": "[encoded data removed]",
      "text/plain": [
       "<matplotlib.figure.Figure at 0x118a33940>"
      ]
     },
     "metadata": {},
     "output_type": "display_data"
    }
   ],
   "source": [
    "plot_feature_importances_heroin(forest)"
   ]
  },
  {
   "cell_type": "markdown",
   "metadata": {},
   "source": [
    "# Part 5. Gradient Boosted Classifier Trees\n",
    "* Works by building trees in a serial manner, where each tree tries to correct for mistakes of previous ones\n",
    "* Main idea: combine many simple models, shallow trees ('weak learners'); more tree iteratively improves performance\n",
    "\n",
    "### Parameters\n",
    "* Pre-pruning, and number of trees in ensemble\n",
    "* learning_rate parameter controls how strongly each tree tries to correct mistakes of previous trees\n",
    "* Add more trees to model with n_estimators, increases model complexity\n",
    "\n",
    "## 5.1 Build Gradient Boosting Classifier for Heroin\n",
    "With 100 trees, of maximum depth 3, and learning rate of 0.1"
   ]
  },
  {
   "cell_type": "code",
   "execution_count": 22,
   "metadata": {},
   "outputs": [
    {
     "data": {
      "text/plain": [
       "GradientBoostingClassifier(criterion='friedman_mse', init=None,\n",
       "              learning_rate=0.01, loss='deviance', max_depth=3,\n",
       "              max_features=None, max_leaf_nodes=None,\n",
       "              min_impurity_split=1e-07, min_samples_leaf=1,\n",
       "              min_samples_split=2, min_weight_fraction_leaf=0.0,\n",
       "              n_estimators=100, presort='auto', random_state=0,\n",
       "              subsample=1.0, verbose=0, warm_start=False)"
      ]
     },
     "execution_count": 22,
     "metadata": {},
     "output_type": "execute_result"
    }
   ],
   "source": [
    "from sklearn.ensemble import GradientBoostingClassifier\n",
    "\n",
    "gbrt = GradientBoostingClassifier(random_state=0, n_estimators=100, max_depth=3, learning_rate=0.01)\n",
    "gbrt.fit(X_train, y_train)"
   ]
  },
  {
   "cell_type": "markdown",
   "metadata": {},
   "source": [
    "## 5.2 Feature Importance\n",
    "* With 100 trees, cannot inspect them all, even if maximum depth is only 1"
   ]
  },
  {
   "cell_type": "code",
   "execution_count": 23,
   "metadata": {},
   "outputs": [
    {
     "data": {
      "image/png": "[encoded data removed]",
      "text/plain": [
       "<matplotlib.figure.Figure at 0x11b660048>"
      ]
     },
     "metadata": {},
     "output_type": "display_data"
    }
   ],
   "source": [
    "gbrt = GradientBoostingClassifier(random_state=0, max_depth=1)\n",
    "gbrt.fit(X_train, y_train)\n",
    "\n",
    "plot_feature_importances_heroin(gbrt)"
   ]
  }
 ],
 "metadata": {
  "kernelspec": {
   "display_name": "Python 3",
   "language": "python",
   "name": "python3"
  },
  "language_info": {
   "codemirror_mode": {
    "name": "ipython",
    "version": 3
   },
   "file_extension": ".py",
   "mimetype": "text/x-python",
   "name": "python",
   "nbconvert_exporter": "python",
   "pygments_lexer": "ipython3",
   "version": "3.6.1"
  }
 },
 "nbformat": 4,
 "nbformat_minor": 2
}
