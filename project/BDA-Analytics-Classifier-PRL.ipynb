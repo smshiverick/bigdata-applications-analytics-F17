{
 "cells": [
  {
   "cell_type": "markdown",
   "metadata": {},
   "source": [
    "##  Big Data Applications and Analytics - Term Project \n",
    "### Sean M. Shiverick Fall 2017\n",
    "\n",
    "# Classification of Prescription Opioid Misuse: PRL\n",
    "* Logistic Regression Classifier, Decision Tree Classifier, Random Forests\n",
    "* from Introduction to Machine Learning by Andreas Mueller and Sarah Guido\n",
    "* Ch. 2 Supervised Learning, Classification Models\n",
    "\n",
    "## Dataset: NSDUH-2015\n",
    "* National Survey of Drug Use and Health 2015\n",
    "* Substance Abuse and Metnal Health Data Archive\n",
    "\n",
    "### Import packages\n",
    "* Load forge dataset and assign variables"
   ]
  },
  {
   "cell_type": "code",
   "execution_count": 1,
   "metadata": {
    "collapsed": true
   },
   "outputs": [],
   "source": [
    "import sklearn\n",
    "import mglearn\n",
    "\n",
    "import numpy as np\n",
    "import pandas as pd\n",
    "\n",
    "import matplotlib.pyplot as plt\n",
    "%matplotlib inline"
   ]
  },
  {
   "cell_type": "markdown",
   "metadata": {},
   "source": [
    "## Part 1. Load Project dataset\n",
    "* Delete first two columns and `SUICIDATT`; examine dataframe keys\n",
    "* Identify features and target variable `PRLMISEVR`\n",
    "* Split data into Training and Test sets"
   ]
  },
  {
   "cell_type": "code",
   "execution_count": 2,
   "metadata": {},
   "outputs": [
    {
     "data": {
      "text/plain": [
       "(57146, 20)"
      ]
     },
     "execution_count": 2,
     "metadata": {},
     "output_type": "execute_result"
    }
   ],
   "source": [
    "file = pd.read_csv('project-data.csv')\n",
    "opioids = pd.DataFrame(file)\n",
    "\n",
    "opioids.drop(opioids.columns[[0,1]], axis=1, inplace=True)\n",
    "del opioids['SUICATT']\n",
    "\n",
    "opioids.shape"
   ]
  },
  {
   "cell_type": "code",
   "execution_count": 3,
   "metadata": {},
   "outputs": [
    {
     "name": "stdout",
     "output_type": "stream",
     "text": [
      "Index(['AGECAT', 'SEX', 'MARRIED', 'EDUCAT', 'EMPLOY18', 'CTYMETRO', 'HEALTH',\n",
      "       'MENTHLTH', 'PRLMISEVR', 'PRLMISAB', 'PRLANY', 'HEROINEVR', 'HEROINUSE',\n",
      "       'HEROINFQY', 'TRQLZRS', 'SEDATVS', 'COCAINE', 'AMPHETMN', 'TRTMENT',\n",
      "       'MHTRTMT'],\n",
      "      dtype='object')\n"
     ]
    }
   ],
   "source": [
    "print(opioids.keys())"
   ]
  },
  {
   "cell_type": "code",
   "execution_count": 4,
   "metadata": {},
   "outputs": [
    {
     "data": {
      "text/plain": [
       "0    50803\n",
       "1     6343\n",
       "Name: PRLMISEVR, dtype: int64"
      ]
     },
     "execution_count": 4,
     "metadata": {},
     "output_type": "execute_result"
    }
   ],
   "source": [
    "opioids['PRLMISEVR'].value_counts()"
   ]
  },
  {
   "cell_type": "code",
   "execution_count": 5,
   "metadata": {
    "collapsed": true,
    "scrolled": true
   },
   "outputs": [],
   "source": [
    "features = ['AGECAT', 'SEX', 'MARRIED', 'EDUCAT', 'EMPLOY18', \n",
    "            'CTYMETRO', 'HEALTH','MENTHLTH','HEROINEVR','HEROINUSE','HEROINFQY', \n",
    "            'TRQLZRS', 'SEDATVS','COCAINE','AMPHETMN','TRTMENT','MHTRTMT']\n",
    "\n",
    "opioids.data = pd.DataFrame(opioids, columns=['AGECAT', 'SEX', 'MARRIED', 'EDUCAT', 'EMPLOY18', \n",
    "                                              'CTYMETRO', 'HEALTH','MENTHLTH','HEROINEVR', \n",
    "                                              'HEROINUSE','HEROINFQY','TRQLZRS','SEDATVS',\n",
    "                                              'COCAINE', 'AMPHETMN', 'TRTMENT','MHTRTMT'])\n",
    "opioids.target = opioids['PRLMISEVR']"
   ]
  },
  {
   "cell_type": "code",
   "execution_count": 6,
   "metadata": {
    "collapsed": true
   },
   "outputs": [],
   "source": [
    "from sklearn.model_selection import train_test_split\n",
    "\n",
    "X_train, X_test, y_train, y_test = train_test_split(\n",
    "    opioids.data, opioids.target, stratify=opioids.target, random_state=42)"
   ]
  },
  {
   "cell_type": "markdown",
   "metadata": {},
   "source": [
    "## Part 2. Logistic Regression Classifier\n",
    "* Decision boundary is a linear function of input\n",
    "* Binary linear classifier separates two classes using a line, plane, or hyperplane\n",
    "\n",
    "### Regularization Parameter C\n",
    "#### Low values of C: \n",
    "* Model tries to correctly classify all points correctly with a straight line\n",
    "* Cause models to try to adjust to the 'majority' of data points\n",
    "* May not capture overall layout of classes well; model is likely OVERFITTING! \n",
    "#### High values of C: \n",
    "* Correspond to less regularization, models will fit training set as best as possible\n",
    "* Stresses importance of each individual data point to be classified correctly \n",
    "\n",
    "\n",
    "## 2.1 Built Classifier Model on Training set"
   ]
  },
  {
   "cell_type": "code",
   "execution_count": 7,
   "metadata": {
    "collapsed": true
   },
   "outputs": [],
   "source": [
    "from sklearn.linear_model import LogisticRegression\n",
    "logreg = LogisticRegression().fit(X_train, y_train)"
   ]
  },
  {
   "cell_type": "markdown",
   "metadata": {},
   "source": [
    "## 2.2 Evaluate Classifier Model on Test set"
   ]
  },
  {
   "cell_type": "code",
   "execution_count": 8,
   "metadata": {},
   "outputs": [
    {
     "name": "stdout",
     "output_type": "stream",
     "text": [
      "Training set score: 0.901\n",
      "Test set score: 0.903\n"
     ]
    }
   ],
   "source": [
    "print(\"Training set score: {:.3f}\".format(logreg.score(X_train, y_train)))\n",
    "print(\"Test set score: {:.3f}\".format(logreg.score(X_test, y_test)))"
   ]
  },
  {
   "cell_type": "markdown",
   "metadata": {},
   "source": [
    "## 2.3 Adjust Model Parameter settings \n",
    "* Default setting `C=1` provides good performance for train and test sets\n",
    "* Very likely UNDERFITTING the test data\n",
    "\n",
    "### Higher value of C fits more 'Flexible' model\n",
    "* C=100 generally gives higher training set accuracy and slightly higher Test set accuracy"
   ]
  },
  {
   "cell_type": "code",
   "execution_count": 9,
   "metadata": {},
   "outputs": [
    {
     "name": "stdout",
     "output_type": "stream",
     "text": [
      "Training set score: 0.901\n",
      "Test set score: 0.903\n"
     ]
    }
   ],
   "source": [
    "logreg100 = LogisticRegression(C=100).fit(X_train, y_train)\n",
    "print(\"Training set score: {:.3f}\".format(logreg100.score(X_train, y_train)))\n",
    "print(\"Test set score: {:.3f}\".format(logreg100.score(X_test, y_test)))"
   ]
  },
  {
   "cell_type": "markdown",
   "metadata": {},
   "source": [
    "### Lower value of C fits more 'regularized' model\n",
    "* Setting C=0.01 leads model to try to adjust to 'majority' of data points"
   ]
  },
  {
   "cell_type": "code",
   "execution_count": 10,
   "metadata": {},
   "outputs": [
    {
     "name": "stdout",
     "output_type": "stream",
     "text": [
      "Training set score: 0.901\n",
      "Test set score: 0.904\n"
     ]
    }
   ],
   "source": [
    "logreg001 = LogisticRegression(C=0.01).fit(X_train, y_train)\n",
    "print(\"Training set score: {:.3f}\".format(logreg001.score(X_train, y_train)))\n",
    "print(\"Test set score: {:.3f}\".format(logreg001.score(X_test, y_test)))"
   ]
  },
  {
   "cell_type": "markdown",
   "metadata": {},
   "source": [
    "## 2.4 Plot Coefficients of Logistic Regression Classifier\n",
    "* Main difference between linear models for classification is penalty parameter\n",
    "* LogisticRegression applies `L2` (Ridge) regularization by default\n",
    "\n",
    "### Penalty Parameter (L) \n",
    "* L2 penalty (Ridge) uses all available features, regularization C pushes toward zero \n",
    "* L1 penalty (Lasso) sets coefficients for most features to zero, uses only a subset\n",
    "    * Improved interpretability with L2 penalty (Lasso)\n",
    "\n",
    "#### L1 Regularization (Lasso)\n",
    "*  Model is limited to using only a few features, more interpretable\n",
    "\n",
    "#### Legend: Different values of Parameter C\n",
    "* Stronger regularization pushes coefficients closer to zero\n",
    "* Parameter values can influence values of Coefficients"
   ]
  },
  {
   "cell_type": "code",
   "execution_count": 11,
   "metadata": {
    "scrolled": true
   },
   "outputs": [
    {
     "name": "stdout",
     "output_type": "stream",
     "text": [
      "Training accuracy of L1 logreg with C=0.010: 0.900\n",
      "Test accuracy of L1 logreg with C=0.010: 0.903\n",
      "Training accuracy of L1 logreg with C=1.000: 0.901\n",
      "Test accuracy of L1 logreg with C=1.000: 0.903\n",
      "Training accuracy of L1 logreg with C=100.000: 0.901\n",
      "Test accuracy of L1 logreg with C=100.000: 0.903\n"
     ]
    },
    {
     "data": {
      "text/plain": [
       "<matplotlib.legend.Legend at 0x10e1788d0>"
      ]
     },
     "execution_count": 11,
     "metadata": {},
     "output_type": "execute_result"
    },
    {
     "data": {
      "image/png": "[encoded data removed]",
      "text/plain": [
       "<matplotlib.figure.Figure at 0x100a20748>"
      ]
     },
     "metadata": {},
     "output_type": "display_data"
    }
   ],
   "source": [
    "for C, marker in zip([0.01, 1, 100], ['v', 'o', '^']):\n",
    "    lr_l1 = LogisticRegression(C=C, penalty=\"l1\").fit(X_train, y_train)\n",
    "    print(\"Training accuracy of L1 logreg with C={:.3f}: {:.3f}\".format(\n",
    "        C, lr_l1.score(X_train, y_train)))\n",
    "    print(\"Test accuracy of L1 logreg with C={:.3f}: {:.3f}\".format(\n",
    "        C, lr_l1.score(X_test, y_test)))\n",
    "    plt.plot(lr_l1.coef_.T, marker, label=\"C={:.3f}\".format(C))\n",
    "    \n",
    "plt.xticks(range(opioids.data.shape[1]), features, rotation=90)\n",
    "plt.hlines(0,0, opioids.data.shape[1])\n",
    "plt.xlabel(\"Coefficient Index\")\n",
    "plt.xlabel(\"Coefficient Magnitude\")\n",
    "\n",
    "plt.ylim(-2, 2)\n",
    "plt.legend()"
   ]
  },
  {
   "cell_type": "markdown",
   "metadata": {},
   "source": [
    "# Part 3. Decision Trees Classifier\n",
    "## Building decision tree \n",
    "* Continues until all leaves are pure leads to models that are complex, overfit\n",
    "* Presence of pure leaves means the tree is 100% accurate on the training set\n",
    "* Each data point in training set is in a leaf that has the correct majority class\n",
    "\n",
    "### Pre-pruning:  to Prevent Overfitting \n",
    "* Stopping creation of tree early\n",
    "* Limiting the maximum depth of the tree, or limiting maximum number of leaves\n",
    "* Requiring a minimum number of points in a node to keep splitting it\n",
    "\n",
    "## 3.1 Build Decision Trees Classifier Model for Heroin\n",
    "* Import package: `DecisionTreeClassifier`\n",
    "* Build model using default setting that fully develops tree until all leaves are pure\n",
    "* Fix the `random_state` in the tree, for breaking ties internally"
   ]
  },
  {
   "cell_type": "code",
   "execution_count": 12,
   "metadata": {},
   "outputs": [
    {
     "data": {
      "text/plain": [
       "DecisionTreeClassifier(class_weight=None, criterion='gini', max_depth=None,\n",
       "            max_features=None, max_leaf_nodes=None,\n",
       "            min_impurity_split=1e-07, min_samples_leaf=1,\n",
       "            min_samples_split=2, min_weight_fraction_leaf=0.0,\n",
       "            presort=False, random_state=0, splitter='best')"
      ]
     },
     "execution_count": 12,
     "metadata": {},
     "output_type": "execute_result"
    }
   ],
   "source": [
    "from IPython.display import Image, display\n",
    "from sklearn.tree import DecisionTreeClassifier\n",
    "\n",
    "tree = DecisionTreeClassifier(random_state=0)\n",
    "tree.fit(X_train, y_train)"
   ]
  },
  {
   "cell_type": "markdown",
   "metadata": {},
   "source": [
    "## 3.2 Evaluate Tree Classifier model on Test set "
   ]
  },
  {
   "cell_type": "code",
   "execution_count": 13,
   "metadata": {},
   "outputs": [
    {
     "name": "stdout",
     "output_type": "stream",
     "text": [
      "Accuracy on the training: 0.955\n",
      "Accuracy on the test set: 0.879\n"
     ]
    }
   ],
   "source": [
    "print(\"Accuracy on the training: {:.3f}\".format(tree.score(X_train, y_train)))\n",
    "print(\"Accuracy on the test set: {:.3f}\".format(tree.score(X_test, y_test)))"
   ]
  },
  {
   "cell_type": "markdown",
   "metadata": {},
   "source": [
    "## 3.3 Adjust Parameter Settings\n",
    "* Training set accuracy is 100% because leaves are pure\n",
    "* Trees can become arbitrarily deep, complex, if depth of the tree is not limmited\n",
    "* Unpruned trees are proone to overfitting and not generalizing well to new data\n",
    "\n",
    "### Pruning: Set max_depth=4\n",
    "* Tree depth is limited to 4 branches\n",
    "* Limiting depth of the tree decreases overfitting \n",
    "* Results in lower accuracy on training set, but improvement on test set"
   ]
  },
  {
   "cell_type": "code",
   "execution_count": 14,
   "metadata": {},
   "outputs": [
    {
     "name": "stdout",
     "output_type": "stream",
     "text": [
      "Accuracy on the training: 0.902\n",
      "Accuracy on the test set: 0.902\n"
     ]
    }
   ],
   "source": [
    "tree = DecisionTreeClassifier(max_depth=4, random_state=0)\n",
    "tree.fit(X_train, y_train)\n",
    "\n",
    "print(\"Accuracy on the training: {:.3f}\".format(tree.score(X_train, y_train)))\n",
    "print(\"Accuracy on the test set: {:.3f}\".format(tree.score(X_test, y_test)))"
   ]
  },
  {
   "cell_type": "markdown",
   "metadata": {},
   "source": [
    "## 3.4 Visualizing Decision Tree Classifier\n",
    "* Visualize the tree using export_graphviz function from trees module\n",
    "* Set an option to color the nodes to reflect majority class in each node\n",
    "* First, install graphviz at terminal using brew install graphviz"
   ]
  },
  {
   "cell_type": "code",
   "execution_count": 15,
   "metadata": {
    "collapsed": true
   },
   "outputs": [],
   "source": [
    "from sklearn.tree import export_graphviz\n",
    "\n",
    "export_graphviz(tree, out_file=\"tree.dot\", class_names=[\"No\", \"Yes\"],\n",
    "                feature_names=features, impurity=False, filled=True)"
   ]
  },
  {
   "cell_type": "code",
   "execution_count": 16,
   "metadata": {},
   "outputs": [
    {
     "data": {
      "image/svg+xml": [
       "<?xml version=\"1.0\" encoding=\"UTF-8\" standalone=\"no\"?>\n",
       "<!DOCTYPE svg PUBLIC \"-//W3C//DTD SVG 1.1//EN\"\n",
       " \"http://www.w3.org/Graphics/SVG/1.1/DTD/svg11.dtd\">\n",
       "<!-- Generated by graphviz version 2.40.1 (20161225.0304)\n",
       " -->\n",
       "<!-- Title: Tree Pages: 1 -->\n",
       "<svg width=\"2158pt\" height=\"458pt\"\n",
       " viewBox=\"0.00 0.00 2158.04 458.00\" xmlns=\"http://www.w3.org/2000/svg\" xmlns:xlink=\"http://www.w3.org/1999/xlink\">\n",
       "<g id=\"graph0\" class=\"graph\" transform=\"scale(1 1) rotate(0) translate(4 454)\">\n",
       "<title>Tree</title>\n",
       "<polygon fill=\"#ffffff\" stroke=\"transparent\" points=\"-4,4 -4,-454 2154.0371,-454 2154.0371,4 -4,4\"/>\n",
       "<!-- 0 -->\n",
       "<g id=\"node1\" class=\"node\">\n",
       "<title>0</title>\n",
       "<polygon fill=\"#e58139\" fill-opacity=\"0.874510\" stroke=\"#000000\" points=\"1175.3064,-450 1035.2307,-450 1035.2307,-386 1175.3064,-386 1175.3064,-450\"/>\n",
       "<text text-anchor=\"middle\" x=\"1105.2686\" y=\"-434.8\" font-family=\"Times,serif\" font-size=\"14.00\" fill=\"#000000\">COCAINE &lt;= 0.5</text>\n",
       "<text text-anchor=\"middle\" x=\"1105.2686\" y=\"-420.8\" font-family=\"Times,serif\" font-size=\"14.00\" fill=\"#000000\">samples = 42859</text>\n",
       "<text text-anchor=\"middle\" x=\"1105.2686\" y=\"-406.8\" font-family=\"Times,serif\" font-size=\"14.00\" fill=\"#000000\">value = [38102, 4757]</text>\n",
       "<text text-anchor=\"middle\" x=\"1105.2686\" y=\"-392.8\" font-family=\"Times,serif\" font-size=\"14.00\" fill=\"#000000\">class = No</text>\n",
       "</g>\n",
       "<!-- 1 -->\n",
       "<g id=\"node2\" class=\"node\">\n",
       "<title>1</title>\n",
       "<polygon fill=\"#e58139\" fill-opacity=\"0.917647\" stroke=\"#000000\" points=\"903.3064,-350 763.2307,-350 763.2307,-286 903.3064,-286 903.3064,-350\"/>\n",
       "<text text-anchor=\"middle\" x=\"833.2686\" y=\"-334.8\" font-family=\"Times,serif\" font-size=\"14.00\" fill=\"#000000\">TRTMENT &lt;= 0.5</text>\n",
       "<text text-anchor=\"middle\" x=\"833.2686\" y=\"-320.8\" font-family=\"Times,serif\" font-size=\"14.00\" fill=\"#000000\">samples = 37844</text>\n",
       "<text text-anchor=\"middle\" x=\"833.2686\" y=\"-306.8\" font-family=\"Times,serif\" font-size=\"14.00\" fill=\"#000000\">value = [35000, 2844]</text>\n",
       "<text text-anchor=\"middle\" x=\"833.2686\" y=\"-292.8\" font-family=\"Times,serif\" font-size=\"14.00\" fill=\"#000000\">class = No</text>\n",
       "</g>\n",
       "<!-- 0&#45;&gt;1 -->\n",
       "<g id=\"edge1\" class=\"edge\">\n",
       "<title>0&#45;&gt;1</title>\n",
       "<path fill=\"none\" stroke=\"#000000\" d=\"M1035.2218,-392.2475C997.929,-378.5369 951.9062,-361.6168 913.2183,-347.3933\"/>\n",
       "<polygon fill=\"#000000\" stroke=\"#000000\" points=\"914.1437,-344.0045 903.5502,-343.8388 911.7282,-350.5746 914.1437,-344.0045\"/>\n",
       "<text text-anchor=\"middle\" x=\"914.0421\" y=\"-362.3307\" font-family=\"Times,serif\" font-size=\"14.00\" fill=\"#000000\">True</text>\n",
       "</g>\n",
       "<!-- 16 -->\n",
       "<g id=\"node17\" class=\"node\">\n",
       "<title>16</title>\n",
       "<polygon fill=\"#e58139\" fill-opacity=\"0.384314\" stroke=\"#000000\" points=\"1427.8912,-350 1292.646,-350 1292.646,-286 1427.8912,-286 1427.8912,-350\"/>\n",
       "<text text-anchor=\"middle\" x=\"1360.2686\" y=\"-334.8\" font-family=\"Times,serif\" font-size=\"14.00\" fill=\"#000000\">HEROINUSE &lt;= 0.5</text>\n",
       "<text text-anchor=\"middle\" x=\"1360.2686\" y=\"-320.8\" font-family=\"Times,serif\" font-size=\"14.00\" fill=\"#000000\">samples = 5015</text>\n",
       "<text text-anchor=\"middle\" x=\"1360.2686\" y=\"-306.8\" font-family=\"Times,serif\" font-size=\"14.00\" fill=\"#000000\">value = [3102, 1913]</text>\n",
       "<text text-anchor=\"middle\" x=\"1360.2686\" y=\"-292.8\" font-family=\"Times,serif\" font-size=\"14.00\" fill=\"#000000\">class = No</text>\n",
       "</g>\n",
       "<!-- 0&#45;&gt;16 -->\n",
       "<g id=\"edge16\" class=\"edge\">\n",
       "<title>0&#45;&gt;16</title>\n",
       "<path fill=\"none\" stroke=\"#000000\" d=\"M1175.6234,-390.4098C1208.9067,-377.3576 1248.7406,-361.7364 1282.8761,-348.35\"/>\n",
       "<polygon fill=\"#000000\" stroke=\"#000000\" points=\"1284.3108,-351.5469 1292.3427,-344.6376 1281.7552,-345.0301 1284.3108,-351.5469\"/>\n",
       "<text text-anchor=\"middle\" x=\"1282.3392\" y=\"-363.3489\" font-family=\"Times,serif\" font-size=\"14.00\" fill=\"#000000\">False</text>\n",
       "</g>\n",
       "<!-- 2 -->\n",
       "<g id=\"node3\" class=\"node\">\n",
       "<title>2</title>\n",
       "<polygon fill=\"#e58139\" fill-opacity=\"0.929412\" stroke=\"#000000\" points=\"509.3064,-250 369.2307,-250 369.2307,-186 509.3064,-186 509.3064,-250\"/>\n",
       "<text text-anchor=\"middle\" x=\"439.2686\" y=\"-234.8\" font-family=\"Times,serif\" font-size=\"14.00\" fill=\"#000000\">TRQLZRS &lt;= 1.0</text>\n",
       "<text text-anchor=\"middle\" x=\"439.2686\" y=\"-220.8\" font-family=\"Times,serif\" font-size=\"14.00\" fill=\"#000000\">samples = 36981</text>\n",
       "<text text-anchor=\"middle\" x=\"439.2686\" y=\"-206.8\" font-family=\"Times,serif\" font-size=\"14.00\" fill=\"#000000\">value = [34480, 2501]</text>\n",
       "<text text-anchor=\"middle\" x=\"439.2686\" y=\"-192.8\" font-family=\"Times,serif\" font-size=\"14.00\" fill=\"#000000\">class = No</text>\n",
       "</g>\n",
       "<!-- 1&#45;&gt;2 -->\n",
       "<g id=\"edge2\" class=\"edge\">\n",
       "<title>1&#45;&gt;2</title>\n",
       "<path fill=\"none\" stroke=\"#000000\" d=\"M762.8293,-300.122C694.4409,-282.7646 590.7646,-256.4508 519.2934,-238.3109\"/>\n",
       "<polygon fill=\"#000000\" stroke=\"#000000\" points=\"519.983,-234.875 509.4293,-235.8073 518.2609,-241.6599 519.983,-234.875\"/>\n",
       "</g>\n",
       "<!-- 9 -->\n",
       "<g id=\"node10\" class=\"node\">\n",
       "<title>9</title>\n",
       "<polygon fill=\"#e58139\" fill-opacity=\"0.341176\" stroke=\"#000000\" points=\"892.8066,-250 773.7306,-250 773.7306,-186 892.8066,-186 892.8066,-250\"/>\n",
       "<text text-anchor=\"middle\" x=\"833.2686\" y=\"-234.8\" font-family=\"Times,serif\" font-size=\"14.00\" fill=\"#000000\">TRQLZRS &lt;= 1.0</text>\n",
       "<text text-anchor=\"middle\" x=\"833.2686\" y=\"-220.8\" font-family=\"Times,serif\" font-size=\"14.00\" fill=\"#000000\">samples = 863</text>\n",
       "<text text-anchor=\"middle\" x=\"833.2686\" y=\"-206.8\" font-family=\"Times,serif\" font-size=\"14.00\" fill=\"#000000\">value = [520, 343]</text>\n",
       "<text text-anchor=\"middle\" x=\"833.2686\" y=\"-192.8\" font-family=\"Times,serif\" font-size=\"14.00\" fill=\"#000000\">class = No</text>\n",
       "</g>\n",
       "<!-- 1&#45;&gt;9 -->\n",
       "<g id=\"edge9\" class=\"edge\">\n",
       "<title>1&#45;&gt;9</title>\n",
       "<path fill=\"none\" stroke=\"#000000\" d=\"M833.2686,-285.8089C833.2686,-277.6906 833.2686,-268.8517 833.2686,-260.3186\"/>\n",
       "<polygon fill=\"#000000\" stroke=\"#000000\" points=\"836.7687,-260.1307 833.2686,-250.1308 829.7687,-260.1308 836.7687,-260.1307\"/>\n",
       "</g>\n",
       "<!-- 3 -->\n",
       "<g id=\"node4\" class=\"node\">\n",
       "<title>3</title>\n",
       "<polygon fill=\"#e58139\" fill-opacity=\"0.937255\" stroke=\"#000000\" points=\"292.3064,-150 152.2307,-150 152.2307,-86 292.3064,-86 292.3064,-150\"/>\n",
       "<text text-anchor=\"middle\" x=\"222.2686\" y=\"-134.8\" font-family=\"Times,serif\" font-size=\"14.00\" fill=\"#000000\">MENTHLTH &lt;= 0.5</text>\n",
       "<text text-anchor=\"middle\" x=\"222.2686\" y=\"-120.8\" font-family=\"Times,serif\" font-size=\"14.00\" fill=\"#000000\">samples = 34418</text>\n",
       "<text text-anchor=\"middle\" x=\"222.2686\" y=\"-106.8\" font-family=\"Times,serif\" font-size=\"14.00\" fill=\"#000000\">value = [32389, 2029]</text>\n",
       "<text text-anchor=\"middle\" x=\"222.2686\" y=\"-92.8\" font-family=\"Times,serif\" font-size=\"14.00\" fill=\"#000000\">class = No</text>\n",
       "</g>\n",
       "<!-- 2&#45;&gt;3 -->\n",
       "<g id=\"edge3\" class=\"edge\">\n",
       "<title>2&#45;&gt;3</title>\n",
       "<path fill=\"none\" stroke=\"#000000\" d=\"M369.713,-185.9467C347.8128,-175.8545 323.4719,-164.6375 300.9818,-154.2734\"/>\n",
       "<polygon fill=\"#000000\" stroke=\"#000000\" points=\"302.3494,-151.0499 291.8025,-150.0433 299.4197,-157.4073 302.3494,-151.0499\"/>\n",
       "</g>\n",
       "<!-- 6 -->\n",
       "<g id=\"node7\" class=\"node\">\n",
       "<title>6</title>\n",
       "<polygon fill=\"#e58139\" fill-opacity=\"0.772549\" stroke=\"#000000\" points=\"502.3065,-150 376.2306,-150 376.2306,-86 502.3065,-86 502.3065,-150\"/>\n",
       "<text text-anchor=\"middle\" x=\"439.2686\" y=\"-134.8\" font-family=\"Times,serif\" font-size=\"14.00\" fill=\"#000000\">AGECAT &lt;= 3.5</text>\n",
       "<text text-anchor=\"middle\" x=\"439.2686\" y=\"-120.8\" font-family=\"Times,serif\" font-size=\"14.00\" fill=\"#000000\">samples = 2563</text>\n",
       "<text text-anchor=\"middle\" x=\"439.2686\" y=\"-106.8\" font-family=\"Times,serif\" font-size=\"14.00\" fill=\"#000000\">value = [2091, 472]</text>\n",
       "<text text-anchor=\"middle\" x=\"439.2686\" y=\"-92.8\" font-family=\"Times,serif\" font-size=\"14.00\" fill=\"#000000\">class = No</text>\n",
       "</g>\n",
       "<!-- 2&#45;&gt;6 -->\n",
       "<g id=\"edge6\" class=\"edge\">\n",
       "<title>2&#45;&gt;6</title>\n",
       "<path fill=\"none\" stroke=\"#000000\" d=\"M439.2686,-185.8089C439.2686,-177.6906 439.2686,-168.8517 439.2686,-160.3186\"/>\n",
       "<polygon fill=\"#000000\" stroke=\"#000000\" points=\"442.7687,-160.1307 439.2686,-150.1308 435.7687,-160.1308 442.7687,-160.1307\"/>\n",
       "</g>\n",
       "<!-- 4 -->\n",
       "<g id=\"node5\" class=\"node\">\n",
       "<title>4</title>\n",
       "<polygon fill=\"#e58139\" fill-opacity=\"0.945098\" stroke=\"#000000\" points=\"140.3064,-50 .2307,-50 .2307,0 140.3064,0 140.3064,-50\"/>\n",
       "<text text-anchor=\"middle\" x=\"70.2686\" y=\"-34.8\" font-family=\"Times,serif\" font-size=\"14.00\" fill=\"#000000\">samples = 31509</text>\n",
       "<text text-anchor=\"middle\" x=\"70.2686\" y=\"-20.8\" font-family=\"Times,serif\" font-size=\"14.00\" fill=\"#000000\">value = [29879, 1630]</text>\n",
       "<text text-anchor=\"middle\" x=\"70.2686\" y=\"-6.8\" font-family=\"Times,serif\" font-size=\"14.00\" fill=\"#000000\">class = No</text>\n",
       "</g>\n",
       "<!-- 3&#45;&gt;4 -->\n",
       "<g id=\"edge4\" class=\"edge\">\n",
       "<title>3&#45;&gt;4</title>\n",
       "<path fill=\"none\" stroke=\"#000000\" d=\"M169.9588,-85.9947C153.7283,-76.0642 135.8963,-65.1538 119.8566,-55.3401\"/>\n",
       "<polygon fill=\"#000000\" stroke=\"#000000\" points=\"121.5084,-52.2476 111.1517,-50.014 117.8551,-58.2186 121.5084,-52.2476\"/>\n",
       "</g>\n",
       "<!-- 5 -->\n",
       "<g id=\"node6\" class=\"node\">\n",
       "<title>5</title>\n",
       "<polygon fill=\"#e58139\" fill-opacity=\"0.839216\" stroke=\"#000000\" points=\"285.3065,-50 159.2306,-50 159.2306,0 285.3065,0 285.3065,-50\"/>\n",
       "<text text-anchor=\"middle\" x=\"222.2686\" y=\"-34.8\" font-family=\"Times,serif\" font-size=\"14.00\" fill=\"#000000\">samples = 2909</text>\n",
       "<text text-anchor=\"middle\" x=\"222.2686\" y=\"-20.8\" font-family=\"Times,serif\" font-size=\"14.00\" fill=\"#000000\">value = [2510, 399]</text>\n",
       "<text text-anchor=\"middle\" x=\"222.2686\" y=\"-6.8\" font-family=\"Times,serif\" font-size=\"14.00\" fill=\"#000000\">class = No</text>\n",
       "</g>\n",
       "<!-- 3&#45;&gt;5 -->\n",
       "<g id=\"edge5\" class=\"edge\">\n",
       "<title>3&#45;&gt;5</title>\n",
       "<path fill=\"none\" stroke=\"#000000\" d=\"M222.2686,-85.9947C222.2686,-77.6273 222.2686,-68.5643 222.2686,-60.0478\"/>\n",
       "<polygon fill=\"#000000\" stroke=\"#000000\" points=\"225.7687,-60.014 222.2686,-50.014 218.7687,-60.0141 225.7687,-60.014\"/>\n",
       "</g>\n",
       "<!-- 7 -->\n",
       "<g id=\"node8\" class=\"node\">\n",
       "<title>7</title>\n",
       "<polygon fill=\"#e58139\" fill-opacity=\"0.643137\" stroke=\"#000000\" points=\"422.8066,-50 303.7306,-50 303.7306,0 422.8066,0 422.8066,-50\"/>\n",
       "<text text-anchor=\"middle\" x=\"363.2686\" y=\"-34.8\" font-family=\"Times,serif\" font-size=\"14.00\" fill=\"#000000\">samples = 1239</text>\n",
       "<text text-anchor=\"middle\" x=\"363.2686\" y=\"-20.8\" font-family=\"Times,serif\" font-size=\"14.00\" fill=\"#000000\">value = [913, 326]</text>\n",
       "<text text-anchor=\"middle\" x=\"363.2686\" y=\"-6.8\" font-family=\"Times,serif\" font-size=\"14.00\" fill=\"#000000\">class = No</text>\n",
       "</g>\n",
       "<!-- 6&#45;&gt;7 -->\n",
       "<g id=\"edge7\" class=\"edge\">\n",
       "<title>6&#45;&gt;7</title>\n",
       "<path fill=\"none\" stroke=\"#000000\" d=\"M413.1137,-85.9947C405.6747,-76.8917 397.5629,-66.9654 390.0852,-57.8152\"/>\n",
       "<polygon fill=\"#000000\" stroke=\"#000000\" points=\"392.7482,-55.5426 383.7101,-50.014 387.3279,-59.9721 392.7482,-55.5426\"/>\n",
       "</g>\n",
       "<!-- 8 -->\n",
       "<g id=\"node9\" class=\"node\">\n",
       "<title>8</title>\n",
       "<polygon fill=\"#e58139\" fill-opacity=\"0.874510\" stroke=\"#000000\" points=\"567.293,-50 441.2441,-50 441.2441,0 567.293,0 567.293,-50\"/>\n",
       "<text text-anchor=\"middle\" x=\"504.2686\" y=\"-34.8\" font-family=\"Times,serif\" font-size=\"14.00\" fill=\"#000000\">samples = 1324</text>\n",
       "<text text-anchor=\"middle\" x=\"504.2686\" y=\"-20.8\" font-family=\"Times,serif\" font-size=\"14.00\" fill=\"#000000\">value = [1178, 146]</text>\n",
       "<text text-anchor=\"middle\" x=\"504.2686\" y=\"-6.8\" font-family=\"Times,serif\" font-size=\"14.00\" fill=\"#000000\">class = No</text>\n",
       "</g>\n",
       "<!-- 6&#45;&gt;8 -->\n",
       "<g id=\"edge8\" class=\"edge\">\n",
       "<title>6&#45;&gt;8</title>\n",
       "<path fill=\"none\" stroke=\"#000000\" d=\"M461.6379,-85.9947C467.8716,-77.0756 474.6578,-67.3661 480.945,-58.3706\"/>\n",
       "<polygon fill=\"#000000\" stroke=\"#000000\" points=\"483.9256,-60.2156 486.7856,-50.014 478.1881,-56.2054 483.9256,-60.2156\"/>\n",
       "</g>\n",
       "<!-- 10 -->\n",
       "<g id=\"node11\" class=\"node\">\n",
       "<title>10</title>\n",
       "<polygon fill=\"#e58139\" fill-opacity=\"0.549020\" stroke=\"#000000\" points=\"823.8912,-150 688.646,-150 688.646,-86 823.8912,-86 823.8912,-150\"/>\n",
       "<text text-anchor=\"middle\" x=\"756.2686\" y=\"-134.8\" font-family=\"Times,serif\" font-size=\"14.00\" fill=\"#000000\">HEROINUSE &lt;= 0.5</text>\n",
       "<text text-anchor=\"middle\" x=\"756.2686\" y=\"-120.8\" font-family=\"Times,serif\" font-size=\"14.00\" fill=\"#000000\">samples = 644</text>\n",
       "<text text-anchor=\"middle\" x=\"756.2686\" y=\"-106.8\" font-family=\"Times,serif\" font-size=\"14.00\" fill=\"#000000\">value = [444, 200]</text>\n",
       "<text text-anchor=\"middle\" x=\"756.2686\" y=\"-92.8\" font-family=\"Times,serif\" font-size=\"14.00\" fill=\"#000000\">class = No</text>\n",
       "</g>\n",
       "<!-- 9&#45;&gt;10 -->\n",
       "<g id=\"edge10\" class=\"edge\">\n",
       "<title>9&#45;&gt;10</title>\n",
       "<path fill=\"none\" stroke=\"#000000\" d=\"M808.4814,-185.8089C801.6808,-176.9769 794.2234,-167.2921 787.127,-158.0759\"/>\n",
       "<polygon fill=\"#000000\" stroke=\"#000000\" points=\"789.8834,-155.9187 781.0092,-150.1308 784.3371,-160.1894 789.8834,-155.9187\"/>\n",
       "</g>\n",
       "<!-- 13 -->\n",
       "<g id=\"node14\" class=\"node\">\n",
       "<title>13</title>\n",
       "<polygon fill=\"#399de5\" fill-opacity=\"0.466667\" stroke=\"#000000\" points=\"977.8912,-150 842.646,-150 842.646,-86 977.8912,-86 977.8912,-150\"/>\n",
       "<text text-anchor=\"middle\" x=\"910.2686\" y=\"-134.8\" font-family=\"Times,serif\" font-size=\"14.00\" fill=\"#000000\">HEROINUSE &lt;= 0.5</text>\n",
       "<text text-anchor=\"middle\" x=\"910.2686\" y=\"-120.8\" font-family=\"Times,serif\" font-size=\"14.00\" fill=\"#000000\">samples = 219</text>\n",
       "<text text-anchor=\"middle\" x=\"910.2686\" y=\"-106.8\" font-family=\"Times,serif\" font-size=\"14.00\" fill=\"#000000\">value = [76, 143]</text>\n",
       "<text text-anchor=\"middle\" x=\"910.2686\" y=\"-92.8\" font-family=\"Times,serif\" font-size=\"14.00\" fill=\"#000000\">class = Yes</text>\n",
       "</g>\n",
       "<!-- 9&#45;&gt;13 -->\n",
       "<g id=\"edge13\" class=\"edge\">\n",
       "<title>9&#45;&gt;13</title>\n",
       "<path fill=\"none\" stroke=\"#000000\" d=\"M858.0557,-185.8089C864.8564,-176.9769 872.3137,-167.2921 879.4101,-158.0759\"/>\n",
       "<polygon fill=\"#000000\" stroke=\"#000000\" points=\"882.2001,-160.1894 885.5279,-150.1308 876.6537,-155.9187 882.2001,-160.1894\"/>\n",
       "</g>\n",
       "<!-- 11 -->\n",
       "<g id=\"node12\" class=\"node\">\n",
       "<title>11</title>\n",
       "<polygon fill=\"#e58139\" fill-opacity=\"0.572549\" stroke=\"#000000\" points=\"704.8066,-50 585.7306,-50 585.7306,0 704.8066,0 704.8066,-50\"/>\n",
       "<text text-anchor=\"middle\" x=\"645.2686\" y=\"-34.8\" font-family=\"Times,serif\" font-size=\"14.00\" fill=\"#000000\">samples = 631</text>\n",
       "<text text-anchor=\"middle\" x=\"645.2686\" y=\"-20.8\" font-family=\"Times,serif\" font-size=\"14.00\" fill=\"#000000\">value = [442, 189]</text>\n",
       "<text text-anchor=\"middle\" x=\"645.2686\" y=\"-6.8\" font-family=\"Times,serif\" font-size=\"14.00\" fill=\"#000000\">class = No</text>\n",
       "</g>\n",
       "<!-- 10&#45;&gt;11 -->\n",
       "<g id=\"edge11\" class=\"edge\">\n",
       "<title>10&#45;&gt;11</title>\n",
       "<path fill=\"none\" stroke=\"#000000\" d=\"M718.0687,-85.9947C706.7649,-76.524 694.3973,-66.1619 683.1159,-56.7099\"/>\n",
       "<polygon fill=\"#000000\" stroke=\"#000000\" points=\"685.037,-53.7534 675.124,-50.014 680.5415,-59.1191 685.037,-53.7534\"/>\n",
       "</g>\n",
       "<!-- 12 -->\n",
       "<g id=\"node13\" class=\"node\">\n",
       "<title>12</title>\n",
       "<polygon fill=\"#399de5\" fill-opacity=\"0.819608\" stroke=\"#000000\" points=\"821.293,-50 723.2441,-50 723.2441,0 821.293,0 821.293,-50\"/>\n",
       "<text text-anchor=\"middle\" x=\"772.2686\" y=\"-34.8\" font-family=\"Times,serif\" font-size=\"14.00\" fill=\"#000000\">samples = 13</text>\n",
       "<text text-anchor=\"middle\" x=\"772.2686\" y=\"-20.8\" font-family=\"Times,serif\" font-size=\"14.00\" fill=\"#000000\">value = [2, 11]</text>\n",
       "<text text-anchor=\"middle\" x=\"772.2686\" y=\"-6.8\" font-family=\"Times,serif\" font-size=\"14.00\" fill=\"#000000\">class = Yes</text>\n",
       "</g>\n",
       "<!-- 10&#45;&gt;12 -->\n",
       "<g id=\"edge12\" class=\"edge\">\n",
       "<title>10&#45;&gt;12</title>\n",
       "<path fill=\"none\" stroke=\"#000000\" d=\"M761.7748,-85.9947C763.2144,-77.6273 764.7736,-68.5643 766.2388,-60.0478\"/>\n",
       "<polygon fill=\"#000000\" stroke=\"#000000\" points=\"769.7188,-60.4627 767.9651,-50.014 762.8201,-59.2758 769.7188,-60.4627\"/>\n",
       "</g>\n",
       "<!-- 14 -->\n",
       "<g id=\"node15\" class=\"node\">\n",
       "<title>14</title>\n",
       "<polygon fill=\"#399de5\" fill-opacity=\"0.388235\" stroke=\"#000000\" points=\"951.3066,-50 839.2305,-50 839.2305,0 951.3066,0 951.3066,-50\"/>\n",
       "<text text-anchor=\"middle\" x=\"895.2686\" y=\"-34.8\" font-family=\"Times,serif\" font-size=\"14.00\" fill=\"#000000\">samples = 195</text>\n",
       "<text text-anchor=\"middle\" x=\"895.2686\" y=\"-20.8\" font-family=\"Times,serif\" font-size=\"14.00\" fill=\"#000000\">value = [74, 121]</text>\n",
       "<text text-anchor=\"middle\" x=\"895.2686\" y=\"-6.8\" font-family=\"Times,serif\" font-size=\"14.00\" fill=\"#000000\">class = Yes</text>\n",
       "</g>\n",
       "<!-- 13&#45;&gt;14 -->\n",
       "<g id=\"edge14\" class=\"edge\">\n",
       "<title>13&#45;&gt;14</title>\n",
       "<path fill=\"none\" stroke=\"#000000\" d=\"M905.1064,-85.9947C903.7568,-77.6273 902.2951,-68.5643 900.9214,-60.0478\"/>\n",
       "<polygon fill=\"#000000\" stroke=\"#000000\" points=\"904.3508,-59.3291 899.3031,-50.014 897.4401,-60.4438 904.3508,-59.3291\"/>\n",
       "</g>\n",
       "<!-- 15 -->\n",
       "<g id=\"node16\" class=\"node\">\n",
       "<title>15</title>\n",
       "<polygon fill=\"#399de5\" fill-opacity=\"0.909804\" stroke=\"#000000\" points=\"1068.3067,-50 970.2304,-50 970.2304,0 1068.3067,0 1068.3067,-50\"/>\n",
       "<text text-anchor=\"middle\" x=\"1019.2686\" y=\"-34.8\" font-family=\"Times,serif\" font-size=\"14.00\" fill=\"#000000\">samples = 24</text>\n",
       "<text text-anchor=\"middle\" x=\"1019.2686\" y=\"-20.8\" font-family=\"Times,serif\" font-size=\"14.00\" fill=\"#000000\">value = [2, 22]</text>\n",
       "<text text-anchor=\"middle\" x=\"1019.2686\" y=\"-6.8\" font-family=\"Times,serif\" font-size=\"14.00\" fill=\"#000000\">class = Yes</text>\n",
       "</g>\n",
       "<!-- 13&#45;&gt;15 -->\n",
       "<g id=\"edge15\" class=\"edge\">\n",
       "<title>13&#45;&gt;15</title>\n",
       "<path fill=\"none\" stroke=\"#000000\" d=\"M947.7802,-85.9947C958.8803,-76.524 971.025,-66.1619 982.1031,-56.7099\"/>\n",
       "<polygon fill=\"#000000\" stroke=\"#000000\" points=\"984.6154,-59.1673 989.951,-50.014 980.0719,-53.8421 984.6154,-59.1673\"/>\n",
       "</g>\n",
       "<!-- 17 -->\n",
       "<g id=\"node18\" class=\"node\">\n",
       "<title>17</title>\n",
       "<polygon fill=\"#e58139\" fill-opacity=\"0.509804\" stroke=\"#000000\" points=\"1426.8065,-250 1293.7306,-250 1293.7306,-186 1426.8065,-186 1426.8065,-250\"/>\n",
       "<text text-anchor=\"middle\" x=\"1360.2686\" y=\"-234.8\" font-family=\"Times,serif\" font-size=\"14.00\" fill=\"#000000\">TRQLZRS &lt;= 1.0</text>\n",
       "<text text-anchor=\"middle\" x=\"1360.2686\" y=\"-220.8\" font-family=\"Times,serif\" font-size=\"14.00\" fill=\"#000000\">samples = 4311</text>\n",
       "<text text-anchor=\"middle\" x=\"1360.2686\" y=\"-206.8\" font-family=\"Times,serif\" font-size=\"14.00\" fill=\"#000000\">value = [2892, 1419]</text>\n",
       "<text text-anchor=\"middle\" x=\"1360.2686\" y=\"-192.8\" font-family=\"Times,serif\" font-size=\"14.00\" fill=\"#000000\">class = No</text>\n",
       "</g>\n",
       "<!-- 16&#45;&gt;17 -->\n",
       "<g id=\"edge17\" class=\"edge\">\n",
       "<title>16&#45;&gt;17</title>\n",
       "<path fill=\"none\" stroke=\"#000000\" d=\"M1360.2686,-285.8089C1360.2686,-277.6906 1360.2686,-268.8517 1360.2686,-260.3186\"/>\n",
       "<polygon fill=\"#000000\" stroke=\"#000000\" points=\"1363.7687,-260.1307 1360.2686,-250.1308 1356.7687,-260.1308 1363.7687,-260.1307\"/>\n",
       "</g>\n",
       "<!-- 24 -->\n",
       "<g id=\"node25\" class=\"node\">\n",
       "<title>24</title>\n",
       "<polygon fill=\"#399de5\" fill-opacity=\"0.576471\" stroke=\"#000000\" points=\"1823.8066,-250 1704.7306,-250 1704.7306,-186 1823.8066,-186 1823.8066,-250\"/>\n",
       "<text text-anchor=\"middle\" x=\"1764.2686\" y=\"-234.8\" font-family=\"Times,serif\" font-size=\"14.00\" fill=\"#000000\">AGECAT &lt;= 3.5</text>\n",
       "<text text-anchor=\"middle\" x=\"1764.2686\" y=\"-220.8\" font-family=\"Times,serif\" font-size=\"14.00\" fill=\"#000000\">samples = 704</text>\n",
       "<text text-anchor=\"middle\" x=\"1764.2686\" y=\"-206.8\" font-family=\"Times,serif\" font-size=\"14.00\" fill=\"#000000\">value = [210, 494]</text>\n",
       "<text text-anchor=\"middle\" x=\"1764.2686\" y=\"-192.8\" font-family=\"Times,serif\" font-size=\"14.00\" fill=\"#000000\">class = Yes</text>\n",
       "</g>\n",
       "<!-- 16&#45;&gt;24 -->\n",
       "<g id=\"edge24\" class=\"edge\">\n",
       "<title>16&#45;&gt;24</title>\n",
       "<path fill=\"none\" stroke=\"#000000\" d=\"M1428.3448,-301.1494C1502.3784,-282.8243 1620.0937,-253.6868 1694.7059,-235.2185\"/>\n",
       "<polygon fill=\"#000000\" stroke=\"#000000\" points=\"1695.6211,-238.5977 1704.4872,-232.7974 1693.9391,-231.8027 1695.6211,-238.5977\"/>\n",
       "</g>\n",
       "<!-- 18 -->\n",
       "<g id=\"node19\" class=\"node\">\n",
       "<title>18</title>\n",
       "<polygon fill=\"#e58139\" fill-opacity=\"0.627451\" stroke=\"#000000\" points=\"1354.2607,-150 1222.2764,-150 1222.2764,-86 1354.2607,-86 1354.2607,-150\"/>\n",
       "<text text-anchor=\"middle\" x=\"1288.2686\" y=\"-134.8\" font-family=\"Times,serif\" font-size=\"14.00\" fill=\"#000000\">MENTHLTH &lt;= 0.5</text>\n",
       "<text text-anchor=\"middle\" x=\"1288.2686\" y=\"-120.8\" font-family=\"Times,serif\" font-size=\"14.00\" fill=\"#000000\">samples = 3246</text>\n",
       "<text text-anchor=\"middle\" x=\"1288.2686\" y=\"-106.8\" font-family=\"Times,serif\" font-size=\"14.00\" fill=\"#000000\">value = [2364, 882]</text>\n",
       "<text text-anchor=\"middle\" x=\"1288.2686\" y=\"-92.8\" font-family=\"Times,serif\" font-size=\"14.00\" fill=\"#000000\">class = No</text>\n",
       "</g>\n",
       "<!-- 17&#45;&gt;18 -->\n",
       "<g id=\"edge18\" class=\"edge\">\n",
       "<title>17&#45;&gt;18</title>\n",
       "<path fill=\"none\" stroke=\"#000000\" d=\"M1337.091,-185.8089C1330.7961,-177.0661 1323.8996,-167.4876 1317.3244,-158.3553\"/>\n",
       "<polygon fill=\"#000000\" stroke=\"#000000\" points=\"1320.0862,-156.201 1311.4027,-150.1308 1314.4054,-160.2912 1320.0862,-156.201\"/>\n",
       "</g>\n",
       "<!-- 21 -->\n",
       "<g id=\"node22\" class=\"node\">\n",
       "<title>21</title>\n",
       "<polygon fill=\"#399de5\" fill-opacity=\"0.015686\" stroke=\"#000000\" points=\"1491.8066,-150 1372.7306,-150 1372.7306,-86 1491.8066,-86 1491.8066,-150\"/>\n",
       "<text text-anchor=\"middle\" x=\"1432.2686\" y=\"-134.8\" font-family=\"Times,serif\" font-size=\"14.00\" fill=\"#000000\">AGECAT &lt;= 3.5</text>\n",
       "<text text-anchor=\"middle\" x=\"1432.2686\" y=\"-120.8\" font-family=\"Times,serif\" font-size=\"14.00\" fill=\"#000000\">samples = 1065</text>\n",
       "<text text-anchor=\"middle\" x=\"1432.2686\" y=\"-106.8\" font-family=\"Times,serif\" font-size=\"14.00\" fill=\"#000000\">value = [528, 537]</text>\n",
       "<text text-anchor=\"middle\" x=\"1432.2686\" y=\"-92.8\" font-family=\"Times,serif\" font-size=\"14.00\" fill=\"#000000\">class = Yes</text>\n",
       "</g>\n",
       "<!-- 17&#45;&gt;21 -->\n",
       "<g id=\"edge21\" class=\"edge\">\n",
       "<title>17&#45;&gt;21</title>\n",
       "<path fill=\"none\" stroke=\"#000000\" d=\"M1383.4461,-185.8089C1389.741,-177.0661 1396.6375,-167.4876 1403.2127,-158.3553\"/>\n",
       "<polygon fill=\"#000000\" stroke=\"#000000\" points=\"1406.1317,-160.2912 1409.1344,-150.1308 1400.4509,-156.201 1406.1317,-160.2912\"/>\n",
       "</g>\n",
       "<!-- 19 -->\n",
       "<g id=\"node20\" class=\"node\">\n",
       "<title>19</title>\n",
       "<polygon fill=\"#e58139\" fill-opacity=\"0.682353\" stroke=\"#000000\" points=\"1213.3065,-50 1087.2306,-50 1087.2306,0 1213.3065,0 1213.3065,-50\"/>\n",
       "<text text-anchor=\"middle\" x=\"1150.2686\" y=\"-34.8\" font-family=\"Times,serif\" font-size=\"14.00\" fill=\"#000000\">samples = 2674</text>\n",
       "<text text-anchor=\"middle\" x=\"1150.2686\" y=\"-20.8\" font-family=\"Times,serif\" font-size=\"14.00\" fill=\"#000000\">value = [2031, 643]</text>\n",
       "<text text-anchor=\"middle\" x=\"1150.2686\" y=\"-6.8\" font-family=\"Times,serif\" font-size=\"14.00\" fill=\"#000000\">class = No</text>\n",
       "</g>\n",
       "<!-- 18&#45;&gt;19 -->\n",
       "<g id=\"edge19\" class=\"edge\">\n",
       "<title>18&#45;&gt;19</title>\n",
       "<path fill=\"none\" stroke=\"#000000\" d=\"M1240.7768,-85.9947C1226.1777,-76.1562 1210.1513,-65.3558 1195.6942,-55.613\"/>\n",
       "<polygon fill=\"#000000\" stroke=\"#000000\" points=\"1197.6348,-52.7002 1187.3861,-50.014 1193.7228,-58.505 1197.6348,-52.7002\"/>\n",
       "</g>\n",
       "<!-- 20 -->\n",
       "<g id=\"node21\" class=\"node\">\n",
       "<title>20</title>\n",
       "<polygon fill=\"#e58139\" fill-opacity=\"0.282353\" stroke=\"#000000\" points=\"1350.8066,-50 1231.7306,-50 1231.7306,0 1350.8066,0 1350.8066,-50\"/>\n",
       "<text text-anchor=\"middle\" x=\"1291.2686\" y=\"-34.8\" font-family=\"Times,serif\" font-size=\"14.00\" fill=\"#000000\">samples = 572</text>\n",
       "<text text-anchor=\"middle\" x=\"1291.2686\" y=\"-20.8\" font-family=\"Times,serif\" font-size=\"14.00\" fill=\"#000000\">value = [333, 239]</text>\n",
       "<text text-anchor=\"middle\" x=\"1291.2686\" y=\"-6.8\" font-family=\"Times,serif\" font-size=\"14.00\" fill=\"#000000\">class = No</text>\n",
       "</g>\n",
       "<!-- 18&#45;&gt;20 -->\n",
       "<g id=\"edge20\" class=\"edge\">\n",
       "<title>18&#45;&gt;20</title>\n",
       "<path fill=\"none\" stroke=\"#000000\" d=\"M1289.301,-85.9947C1289.5709,-77.6273 1289.8633,-68.5643 1290.138,-60.0478\"/>\n",
       "<polygon fill=\"#000000\" stroke=\"#000000\" points=\"1293.6373,-60.1217 1290.4617,-50.014 1286.641,-59.896 1293.6373,-60.1217\"/>\n",
       "</g>\n",
       "<!-- 22 -->\n",
       "<g id=\"node23\" class=\"node\">\n",
       "<title>22</title>\n",
       "<polygon fill=\"#399de5\" fill-opacity=\"0.443137\" stroke=\"#000000\" points=\"1488.8066,-50 1369.7306,-50 1369.7306,0 1488.8066,0 1488.8066,-50\"/>\n",
       "<text text-anchor=\"middle\" x=\"1429.2686\" y=\"-34.8\" font-family=\"Times,serif\" font-size=\"14.00\" fill=\"#000000\">samples = 617</text>\n",
       "<text text-anchor=\"middle\" x=\"1429.2686\" y=\"-20.8\" font-family=\"Times,serif\" font-size=\"14.00\" fill=\"#000000\">value = [221, 396]</text>\n",
       "<text text-anchor=\"middle\" x=\"1429.2686\" y=\"-6.8\" font-family=\"Times,serif\" font-size=\"14.00\" fill=\"#000000\">class = Yes</text>\n",
       "</g>\n",
       "<!-- 21&#45;&gt;22 -->\n",
       "<g id=\"edge22\" class=\"edge\">\n",
       "<title>21&#45;&gt;22</title>\n",
       "<path fill=\"none\" stroke=\"#000000\" d=\"M1431.2361,-85.9947C1430.9662,-77.6273 1430.6739,-68.5643 1430.3991,-60.0478\"/>\n",
       "<polygon fill=\"#000000\" stroke=\"#000000\" points=\"1433.8961,-59.896 1430.0755,-50.014 1426.8998,-60.1217 1433.8961,-59.896\"/>\n",
       "</g>\n",
       "<!-- 23 -->\n",
       "<g id=\"node24\" class=\"node\">\n",
       "<title>23</title>\n",
       "<polygon fill=\"#e58139\" fill-opacity=\"0.541176\" stroke=\"#000000\" points=\"1626.8066,-50 1507.7306,-50 1507.7306,0 1626.8066,0 1626.8066,-50\"/>\n",
       "<text text-anchor=\"middle\" x=\"1567.2686\" y=\"-34.8\" font-family=\"Times,serif\" font-size=\"14.00\" fill=\"#000000\">samples = 448</text>\n",
       "<text text-anchor=\"middle\" x=\"1567.2686\" y=\"-20.8\" font-family=\"Times,serif\" font-size=\"14.00\" fill=\"#000000\">value = [307, 141]</text>\n",
       "<text text-anchor=\"middle\" x=\"1567.2686\" y=\"-6.8\" font-family=\"Times,serif\" font-size=\"14.00\" fill=\"#000000\">class = No</text>\n",
       "</g>\n",
       "<!-- 21&#45;&gt;23 -->\n",
       "<g id=\"edge23\" class=\"edge\">\n",
       "<title>21&#45;&gt;23</title>\n",
       "<path fill=\"none\" stroke=\"#000000\" d=\"M1478.7279,-85.9947C1492.8761,-76.2481 1508.3947,-65.5575 1522.4335,-55.8864\"/>\n",
       "<polygon fill=\"#000000\" stroke=\"#000000\" points=\"1524.7084,-58.5694 1530.9579,-50.014 1520.7372,-52.8048 1524.7084,-58.5694\"/>\n",
       "</g>\n",
       "<!-- 25 -->\n",
       "<g id=\"node26\" class=\"node\">\n",
       "<title>25</title>\n",
       "<polygon fill=\"#399de5\" fill-opacity=\"0.772549\" stroke=\"#000000\" points=\"1823.2881,-150 1705.249,-150 1705.249,-86 1823.2881,-86 1823.2881,-150\"/>\n",
       "<text text-anchor=\"middle\" x=\"1764.2686\" y=\"-134.8\" font-family=\"Times,serif\" font-size=\"14.00\" fill=\"#000000\">TRQLZRS &lt;= 1.0</text>\n",
       "<text text-anchor=\"middle\" x=\"1764.2686\" y=\"-120.8\" font-family=\"Times,serif\" font-size=\"14.00\" fill=\"#000000\">samples = 385</text>\n",
       "<text text-anchor=\"middle\" x=\"1764.2686\" y=\"-106.8\" font-family=\"Times,serif\" font-size=\"14.00\" fill=\"#000000\">value = [71, 314]</text>\n",
       "<text text-anchor=\"middle\" x=\"1764.2686\" y=\"-92.8\" font-family=\"Times,serif\" font-size=\"14.00\" fill=\"#000000\">class = Yes</text>\n",
       "</g>\n",
       "<!-- 24&#45;&gt;25 -->\n",
       "<g id=\"edge25\" class=\"edge\">\n",
       "<title>24&#45;&gt;25</title>\n",
       "<path fill=\"none\" stroke=\"#000000\" d=\"M1764.2686,-185.8089C1764.2686,-177.6906 1764.2686,-168.8517 1764.2686,-160.3186\"/>\n",
       "<polygon fill=\"#000000\" stroke=\"#000000\" points=\"1767.7687,-160.1307 1764.2686,-150.1308 1760.7687,-160.1308 1767.7687,-160.1307\"/>\n",
       "</g>\n",
       "<!-- 28 -->\n",
       "<g id=\"node29\" class=\"node\">\n",
       "<title>28</title>\n",
       "<polygon fill=\"#399de5\" fill-opacity=\"0.227451\" stroke=\"#000000\" points=\"2027.0834,-150 1905.4537,-150 1905.4537,-86 2027.0834,-86 2027.0834,-150\"/>\n",
       "<text text-anchor=\"middle\" x=\"1966.2686\" y=\"-134.8\" font-family=\"Times,serif\" font-size=\"14.00\" fill=\"#000000\">TRTMENT &lt;= 0.5</text>\n",
       "<text text-anchor=\"middle\" x=\"1966.2686\" y=\"-120.8\" font-family=\"Times,serif\" font-size=\"14.00\" fill=\"#000000\">samples = 319</text>\n",
       "<text text-anchor=\"middle\" x=\"1966.2686\" y=\"-106.8\" font-family=\"Times,serif\" font-size=\"14.00\" fill=\"#000000\">value = [139, 180]</text>\n",
       "<text text-anchor=\"middle\" x=\"1966.2686\" y=\"-92.8\" font-family=\"Times,serif\" font-size=\"14.00\" fill=\"#000000\">class = Yes</text>\n",
       "</g>\n",
       "<!-- 24&#45;&gt;28 -->\n",
       "<g id=\"edge28\" class=\"edge\">\n",
       "<title>24&#45;&gt;28</title>\n",
       "<path fill=\"none\" stroke=\"#000000\" d=\"M1824.0553,-188.4026C1846.753,-177.1661 1872.8025,-164.2703 1896.3535,-152.6114\"/>\n",
       "<polygon fill=\"#000000\" stroke=\"#000000\" points=\"1898.1774,-155.614 1905.5865,-148.0406 1895.0717,-149.3406 1898.1774,-155.614\"/>\n",
       "</g>\n",
       "<!-- 26 -->\n",
       "<g id=\"node27\" class=\"node\">\n",
       "<title>26</title>\n",
       "<polygon fill=\"#399de5\" fill-opacity=\"0.600000\" stroke=\"#000000\" points=\"1757.3066,-50 1645.2305,-50 1645.2305,0 1757.3066,0 1757.3066,-50\"/>\n",
       "<text text-anchor=\"middle\" x=\"1701.2686\" y=\"-34.8\" font-family=\"Times,serif\" font-size=\"14.00\" fill=\"#000000\">samples = 189</text>\n",
       "<text text-anchor=\"middle\" x=\"1701.2686\" y=\"-20.8\" font-family=\"Times,serif\" font-size=\"14.00\" fill=\"#000000\">value = [54, 135]</text>\n",
       "<text text-anchor=\"middle\" x=\"1701.2686\" y=\"-6.8\" font-family=\"Times,serif\" font-size=\"14.00\" fill=\"#000000\">class = Yes</text>\n",
       "</g>\n",
       "<!-- 25&#45;&gt;26 -->\n",
       "<g id=\"edge26\" class=\"edge\">\n",
       "<title>25&#45;&gt;26</title>\n",
       "<path fill=\"none\" stroke=\"#000000\" d=\"M1742.5875,-85.9947C1736.5456,-77.0756 1729.9682,-67.3661 1723.8745,-58.3706\"/>\n",
       "<polygon fill=\"#000000\" stroke=\"#000000\" points=\"1726.7198,-56.3303 1718.2135,-50.014 1720.9243,-60.2562 1726.7198,-56.3303\"/>\n",
       "</g>\n",
       "<!-- 27 -->\n",
       "<g id=\"node28\" class=\"node\">\n",
       "<title>27</title>\n",
       "<polygon fill=\"#399de5\" fill-opacity=\"0.905882\" stroke=\"#000000\" points=\"1888.3066,-50 1776.2305,-50 1776.2305,0 1888.3066,0 1888.3066,-50\"/>\n",
       "<text text-anchor=\"middle\" x=\"1832.2686\" y=\"-34.8\" font-family=\"Times,serif\" font-size=\"14.00\" fill=\"#000000\">samples = 196</text>\n",
       "<text text-anchor=\"middle\" x=\"1832.2686\" y=\"-20.8\" font-family=\"Times,serif\" font-size=\"14.00\" fill=\"#000000\">value = [17, 179]</text>\n",
       "<text text-anchor=\"middle\" x=\"1832.2686\" y=\"-6.8\" font-family=\"Times,serif\" font-size=\"14.00\" fill=\"#000000\">class = Yes</text>\n",
       "</g>\n",
       "<!-- 25&#45;&gt;27 -->\n",
       "<g id=\"edge27\" class=\"edge\">\n",
       "<title>25&#45;&gt;27</title>\n",
       "<path fill=\"none\" stroke=\"#000000\" d=\"M1787.6703,-85.9947C1794.259,-76.9837 1801.4376,-67.1658 1808.0718,-58.0927\"/>\n",
       "<polygon fill=\"#000000\" stroke=\"#000000\" points=\"1810.9017,-60.1522 1813.9787,-50.014 1805.251,-56.0205 1810.9017,-60.1522\"/>\n",
       "</g>\n",
       "<!-- 29 -->\n",
       "<g id=\"node30\" class=\"node\">\n",
       "<title>29</title>\n",
       "<polygon fill=\"#e58139\" fill-opacity=\"0.015686\" stroke=\"#000000\" points=\"2025.8066,-50 1906.7306,-50 1906.7306,0 2025.8066,0 2025.8066,-50\"/>\n",
       "<text text-anchor=\"middle\" x=\"1966.2686\" y=\"-34.8\" font-family=\"Times,serif\" font-size=\"14.00\" fill=\"#000000\">samples = 256</text>\n",
       "<text text-anchor=\"middle\" x=\"1966.2686\" y=\"-20.8\" font-family=\"Times,serif\" font-size=\"14.00\" fill=\"#000000\">value = [129, 127]</text>\n",
       "<text text-anchor=\"middle\" x=\"1966.2686\" y=\"-6.8\" font-family=\"Times,serif\" font-size=\"14.00\" fill=\"#000000\">class = No</text>\n",
       "</g>\n",
       "<!-- 28&#45;&gt;29 -->\n",
       "<g id=\"edge29\" class=\"edge\">\n",
       "<title>28&#45;&gt;29</title>\n",
       "<path fill=\"none\" stroke=\"#000000\" d=\"M1966.2686,-85.9947C1966.2686,-77.6273 1966.2686,-68.5643 1966.2686,-60.0478\"/>\n",
       "<polygon fill=\"#000000\" stroke=\"#000000\" points=\"1969.7687,-60.014 1966.2686,-50.014 1962.7687,-60.0141 1969.7687,-60.014\"/>\n",
       "</g>\n",
       "<!-- 30 -->\n",
       "<g id=\"node31\" class=\"node\">\n",
       "<title>30</title>\n",
       "<polygon fill=\"#399de5\" fill-opacity=\"0.811765\" stroke=\"#000000\" points=\"2149.8067,-50 2044.7304,-50 2044.7304,0 2149.8067,0 2149.8067,-50\"/>\n",
       "<text text-anchor=\"middle\" x=\"2097.2686\" y=\"-34.8\" font-family=\"Times,serif\" font-size=\"14.00\" fill=\"#000000\">samples = 63</text>\n",
       "<text text-anchor=\"middle\" x=\"2097.2686\" y=\"-20.8\" font-family=\"Times,serif\" font-size=\"14.00\" fill=\"#000000\">value = [10, 53]</text>\n",
       "<text text-anchor=\"middle\" x=\"2097.2686\" y=\"-6.8\" font-family=\"Times,serif\" font-size=\"14.00\" fill=\"#000000\">class = Yes</text>\n",
       "</g>\n",
       "<!-- 28&#45;&gt;30 -->\n",
       "<g id=\"edge30\" class=\"edge\">\n",
       "<title>28&#45;&gt;30</title>\n",
       "<path fill=\"none\" stroke=\"#000000\" d=\"M2011.3513,-85.9947C2025.0804,-76.2481 2040.1391,-65.5575 2053.7619,-55.8864\"/>\n",
       "<polygon fill=\"#000000\" stroke=\"#000000\" points=\"2055.9057,-58.6568 2062.0337,-50.014 2051.8535,-52.9489 2055.9057,-58.6568\"/>\n",
       "</g>\n",
       "</g>\n",
       "</svg>\n"
      ],
      "text/plain": [
       "<graphviz.files.Source at 0x102592390>"
      ]
     },
     "metadata": {},
     "output_type": "display_data"
    }
   ],
   "source": [
    "from IPython.display import display\n",
    "\n",
    "import graphviz\n",
    "\n",
    "with open('tree.dot') as f:\n",
    "    dot_graph = f.read()\n",
    "\n",
    "display(graphviz.Source(dot_graph))"
   ]
  },
  {
   "cell_type": "markdown",
   "metadata": {},
   "source": [
    "## Feature Importance in Trees\n",
    "* Relates how important each feature is for the decision a tree makes\n",
    "* Values range from 0 = \"Not at all\", to 1 = perfectly predicts target\"\n",
    "* Feature importances always sum to a total of 1.\n",
    "\n",
    "## 3.5 Visualize Feature Importancee\n",
    "* Similar to how we visualized coefficients in linear model\n",
    "* Features used in top split (\"worst radius\") is most important feature\n",
    "* Features with low importance may be redundant with another feature that encodes same info "
   ]
  },
  {
   "cell_type": "code",
   "execution_count": 17,
   "metadata": {},
   "outputs": [
    {
     "name": "stdout",
     "output_type": "stream",
     "text": [
      "Feature importances:\n",
      "[ 0.06762801  0.          0.          0.          0.          0.          0.\n",
      "  0.04311513  0.          0.11285103  0.          0.13052322  0.\n",
      "  0.52285165  0.          0.12303096  0.        ]\n"
     ]
    }
   ],
   "source": [
    "print(\"Feature importances:\\n{}\".format(tree.feature_importances_))"
   ]
  },
  {
   "cell_type": "code",
   "execution_count": 18,
   "metadata": {},
   "outputs": [
    {
     "data": {
      "image/png": "[encoded data removed]",
      "text/plain": [
       "<matplotlib.figure.Figure at 0x1147727b8>"
      ]
     },
     "metadata": {},
     "output_type": "display_data"
    }
   ],
   "source": [
    "def plot_feature_importances_prl(model):\n",
    "    n_features = opioids.data.shape[1]\n",
    "    plt.barh(range(n_features), model.feature_importances_, align='center')\n",
    "    plt.yticks(np.arange(n_features), features)\n",
    "    plt.xlabel(\"Feature importance\")\n",
    "    plt.ylabel(\"Feature\")\n",
    "\n",
    "plot_feature_importances_prl(tree)"
   ]
  },
  {
   "cell_type": "markdown",
   "metadata": {},
   "source": [
    "# Part 4. Random Forests Classifier\n",
    "* Random forest gives better accuracy than linear models or single decision tree, without tuning any parameters\n",
    "\n",
    "## Building Random Forests\n",
    "* First, need to decide how many trees to build: `n_estimators` parameter\n",
    "* Trees are built independently of each other, based on \"bootstrap\" samples: `n_samples`\n",
    "* Algorithm randomly selects subset of features, number determined by `max_features` paramter\n",
    "* Each node of tree makes decision involving different subset of features\n",
    "\n",
    "### Bootstrap Sampling and Subsets of Features\n",
    "* Each decision tree in random forest is built on slightly different dataset\n",
    "* Each split in each tree operates on different subset of features\n",
    "\n",
    "## Critical Parameter: max_features\n",
    "* If `max_features` set to `n_features`, each split can look at all features inthe dataset, no randomness in selection\n",
    "* High `max_features` means the trees in a random forest will be quite similar\n",
    "* Low `max_feature` means trees in random forest will be quite different\n",
    "\n",
    "### Prediction with Random Forests\n",
    "* Algorithm first makes prediction for every tree in the forest\n",
    "* For classification, a \"soft voting\" is applied, probabilities for all trees are then averaged, and class with highest probability is predicted\n",
    "\n",
    "## 3.1 Build Random Forests Classifier: Heroin\n",
    "* Split data into train and test sets; \n",
    "* set `n_estimators` to 100 trees; build model on the training set"
   ]
  },
  {
   "cell_type": "code",
   "execution_count": 19,
   "metadata": {},
   "outputs": [
    {
     "data": {
      "text/plain": [
       "RandomForestClassifier(bootstrap=True, class_weight=None, criterion='gini',\n",
       "            max_depth=None, max_features='auto', max_leaf_nodes=None,\n",
       "            min_impurity_split=1e-07, min_samples_leaf=1,\n",
       "            min_samples_split=2, min_weight_fraction_leaf=0.0,\n",
       "            n_estimators=100, n_jobs=1, oob_score=False, random_state=0,\n",
       "            verbose=0, warm_start=False)"
      ]
     },
     "execution_count": 19,
     "metadata": {},
     "output_type": "execute_result"
    }
   ],
   "source": [
    "from sklearn.ensemble import RandomForestClassifier\n",
    "\n",
    "forest = RandomForestClassifier(n_estimators=100, random_state=0)\n",
    "forest.fit(X_train, y_train)"
   ]
  },
  {
   "cell_type": "markdown",
   "metadata": {},
   "source": [
    "## 3.2 Evaluate Random Forests Classifier on Test set"
   ]
  },
  {
   "cell_type": "code",
   "execution_count": 20,
   "metadata": {},
   "outputs": [
    {
     "name": "stdout",
     "output_type": "stream",
     "text": [
      "Accuracy on training set: 0.955\n",
      "Accuracy on test set: 0.896\n"
     ]
    }
   ],
   "source": [
    "print(\"Accuracy on training set: {:.3f}\".format(forest.score(X_train, y_train)))\n",
    "print(\"Accuracy on test set: {:.3f}\".format(forest.score(X_test, y_test)))"
   ]
  },
  {
   "cell_type": "markdown",
   "metadata": {},
   "source": [
    "## 3.3 Features Importance for Random Forest\n",
    "* Computed by aggregating the feature importances over the trees in the forest\n",
    "* Feature importances provided by Random Forest are more reliable than provided by single tree\n",
    "* Many more features have non-zero importance than single tree, chooses similar features"
   ]
  },
  {
   "cell_type": "code",
   "execution_count": 21,
   "metadata": {},
   "outputs": [
    {
     "data": {
      "image/png": "[encoded data removed]",
      "text/plain": [
       "<matplotlib.figure.Figure at 0x10dfff438>"
      ]
     },
     "metadata": {},
     "output_type": "display_data"
    }
   ],
   "source": [
    "plot_feature_importances_prl(forest)"
   ]
  },
  {
   "cell_type": "markdown",
   "metadata": {},
   "source": [
    "# Part 5. Gradient Boosted Classifier Trees\n",
    "* Works by building trees in a serial manner, where each tree tries to correct for mistakes of previous ones\n",
    "* Main idea: combine many simple models, shallow trees ('weak learners'); more tree iteratively improves performance\n",
    "\n",
    "### Parameters\n",
    "* Pre-pruning, and number of trees in ensemble\n",
    "* learning_rate parameter controls how strongly each tree tries to correct mistakes of previous trees\n",
    "* Add more trees to model with n_estimators, increases model complexity\n",
    "\n",
    "## 5.1 Build Gradient Boosting Classifier for PRL\n",
    "With 100 trees, of maximum depth 3, and learning rate of 0.1"
   ]
  },
  {
   "cell_type": "code",
   "execution_count": null,
   "metadata": {
    "collapsed": true
   },
   "outputs": [],
   "source": [
    "from sklearn.ensemble import GradientBoostingClassifier\n",
    "\n",
    "gbrt = GradientBoostingClassifier(random_state=0, n_estimators=100, max_depth=3, learning_rate=0.01)\n",
    "gbrt.fit(X_train, y_train)"
   ]
  },
  {
   "cell_type": "markdown",
   "metadata": {},
   "source": [
    "## 5.2 Feature Importance\n",
    "* With 100 trees, cannot inspect them all, even if maximum depth is only 1"
   ]
  },
  {
   "cell_type": "code",
   "execution_count": 23,
   "metadata": {
    "scrolled": true
   },
   "outputs": [
    {
     "data": {
      "image/png": "[encoded data removed]",
      "text/plain": [
       "<matplotlib.figure.Figure at 0x11083da90>"
      ]
     },
     "metadata": {},
     "output_type": "display_data"
    }
   ],
   "source": [
    "gbrt = GradientBoostingClassifier(random_state=0, max_depth=1)\n",
    "gbrt.fit(X_train, y_train)\n",
    "\n",
    "plot_feature_importances_prl(gbrt)"
   ]
  }
 ],
 "metadata": {
  "kernelspec": {
   "display_name": "Python 3",
   "language": "python",
   "name": "python3"
  },
  "language_info": {
   "codemirror_mode": {
    "name": "ipython",
    "version": 3
   },
   "file_extension": ".py",
   "mimetype": "text/x-python",
   "name": "python",
   "nbconvert_exporter": "python",
   "pygments_lexer": "ipython3",
   "version": "3.6.1"
  }
 },
 "nbformat": 4,
 "nbformat_minor": 2
}
